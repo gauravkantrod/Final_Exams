{
 "cells": [
  {
   "cell_type": "markdown",
   "metadata": {},
   "source": [
    "<span style=\"font-family: Arial; font-weight:bold;font-size:1em;color:#f0f0f0;\">..............................................\n",
    "    <span style=\"font-family: Arial; font-weight:bold;font-size:3.2em;color:#c7920e;\">ITP EXAM FOR 70 MARKS "
   ]
  },
  {
   "cell_type": "markdown",
   "metadata": {},
   "source": [
    "--------"
   ]
  },
  {
   "cell_type": "markdown",
   "metadata": {},
   "source": [
    "# 4 Questions X  5 Marks = 20 Marks\n"
   ]
  },
  {
   "cell_type": "markdown",
   "metadata": {},
   "source": [
    "--------"
   ]
  },
  {
   "cell_type": "markdown",
   "metadata": {},
   "source": [
    "<span style=\"font-family: Arial; font-weight:bold;font-size:1.5em;color:#5d067d;\">1. In a Flipkart sale, all people who took phone and also ordered phone cover, another people who took shoes also ordered socks and based on the people's choice recommend them the item they are most likely to order?\n",
    "\n",
    "   1. This is list of products and recomendations.\n",
    "    items = [('mobile','cover'),('shoe','socks')]\n",
    "\n",
    "   2. Take input from customer\n",
    "\n",
    "   3. search for the product in items list and return recommended product.\n",
    "    if input is mobile suggest mobile cover, if input is shoe suggest socks\n",
    "\n",
    "   4. Take input from user YES or NO, if he is interested.\n",
    "    Do you want to buy cover: YES\n",
    "\n",
    "   5. Return items in the shopping list like -\n",
    "    \n",
    "    If mobile is bought,then it should also suggest cover.\n",
    "    "
   ]
  },
  {
   "cell_type": "code",
   "execution_count": 13,
   "metadata": {},
   "outputs": [],
   "source": [
    "items = [('mobile','mobile cover'),('shoe','socks')]"
   ]
  },
  {
   "cell_type": "code",
   "execution_count": 16,
   "metadata": {},
   "outputs": [
    {
     "name": "stdout",
     "output_type": "stream",
     "text": [
      "What do you want to buy sir/madam -- mobile\n",
      "Sir/Madam you should also buy --  mobile cover\n",
      "So, sir/madam are you interested in buying recommended_product -- yes\n",
      "If mobile is bought,then it should also suggest mobile cover\n"
     ]
    }
   ],
   "source": [
    "user_input = input('What do you want to buy sir/madam -- ')\n",
    "for item in items:\n",
    "    if item[0] == user_input:\n",
    "        recommended_product = item[1]\n",
    "        print('Sir/Madam you should also buy -- ', recommended_product)\n",
    "        \n",
    "        user_interested = input('So, sir/madam are you interested in buying recommended_product -- ')\n",
    "        \n",
    "        if user_interested.upper() == 'YES':\n",
    "            print('If', item[0], 'is bought,then it should also suggest', recommended_product)\n",
    "        else:\n",
    "            print('User is not interested in buying recommended product.')\n",
    "            \n",
    "        "
   ]
  },
  {
   "cell_type": "markdown",
   "metadata": {},
   "source": [
    "<span style=\"font-family: Arial; font-weight:bold;font-size:1.5em;color:#5d067d;\">2. There is Government rules for which age groups allowed to watch movies categories. There is some categories, General Audiences: All ages admitted. Nothing that would offend parents for viewing by children.Parental Guidance Suggested:Some material may not be suitable for children. Nowadays all movies watching online so you need to find before watching the movies find the age limit. If the age limits wrong your not providing the tickets.\n",
    "    \n",
    "1. Create a dictionary of age limit according to  movie names take like below.\n",
    "    \n",
    "| Movie Names |  Age limit and number of seats |\n",
    "| ------- |  ------ |\n",
    "| A Little Princess |  Age= 11, seats= 5 |\n",
    "| Millennium |Age= 18,seats= 5 |\n",
    "| Hangover |  Age= 15,seats= 7 |\n",
    "| Frozen | Age= 12,seats= 4 |\n",
    "| Hangover II |Age= 15,seats= 6 |\n",
    "| Shrek| Age= 12, seats= 5|\n",
    "\n",
    "  2. After that it will ask \"What film would you like to watch?:\" You need to choose the movie name give list.\n",
    "    \n",
    "  3. After choosing the movie program will ask \"How old are you?:\" you need to give the age limit\n",
    "    \n",
    "  4. then age limit is correct code will show \"Enjoy the film!\"\n",
    "     \n",
    "  5. if it is wrong \"Sorry, we don't have tickets\"  than movie name is not here it will how  it will show \"You are too young to watch this movie.\"?"
   ]
  },
  {
   "cell_type": "code",
   "execution_count": 8,
   "metadata": {},
   "outputs": [],
   "source": [
    "age_dict = {'A Little Princess':11, 'Millennium':18, 'Hangover':15, 'Frozen':12, 'Hangover 2':15, 'Shrek':12}"
   ]
  },
  {
   "cell_type": "code",
   "execution_count": 9,
   "metadata": {},
   "outputs": [],
   "source": [
    "movie_list = []\n",
    "for key in age_dict.keys():\n",
    "    movie_list.append(key)"
   ]
  },
  {
   "cell_type": "code",
   "execution_count": 11,
   "metadata": {},
   "outputs": [
    {
     "name": "stdout",
     "output_type": "stream",
     "text": [
      "Movies list --  ['A Little Princess', 'Millennium', 'Hangover', 'Frozen', 'Hangover 2', 'Shrek']\n",
      "Which movie would you like to watch -- Frozen\n",
      "How old are you ? -- 15\n",
      "Enjoy the film!\n"
     ]
    }
   ],
   "source": [
    "print('Movies list -- ', movie_list)\n",
    "movie_choice = input('Which movie would you like to watch -- ')\n",
    "\n",
    "if movie_choice not in movie_list:\n",
    "    print(\"Sorry, we don't have tickets\")\n",
    "\n",
    "for key,value in age_dict.items():\n",
    "    if key == movie_choice:\n",
    "        user_age = int(input('How old are you ? -- '))\n",
    "        if user_age >= value:\n",
    "            print(\"Enjoy the film!\")\n",
    "        else:\n",
    "            print(\"You are too young to watch this movie.\")"
   ]
  },
  {
   "cell_type": "markdown",
   "metadata": {},
   "source": [
    "<span style=\"font-family: Arial; font-weight:bold;font-size:1.5em;color:#5d067d;\">3 .Suppose the cover price of the  book ‘Steve Jobs: The Life, Lessons & Rules for Success’ is $ 49.65,\n",
    "\n",
    "<span style=\"font-family: Arial; font-weight:bold;font-size:1.5em;color:#5d067d;\">but Harvard bookstores gets a 35% discount from the publisher \" Createspace Independent Pub\" .Shipping costs is $4.65 for the first copy and 78 cents for each additional copy from the publisher. What is the total wholesale cost for 60 ,100 and 150 copies?\n",
    "    \n",
    "    \n",
    "    \n",
    "   1. Create a list to store the cover price and also, \n",
    "   2. Create a user input which takes the total wholesale cost for 60 ,100 and 150 copies cost separately.\n",
    "   3. Define function which will display the shipping cost.\n",
    "   4. Create another function to return discount price and also wholesale cost.\n",
    "   5. Display the cost of  number of books bought  and wholesale cost.\n",
    "    "
   ]
  },
  {
   "cell_type": "code",
   "execution_count": 28,
   "metadata": {},
   "outputs": [],
   "source": [
    "book_price = {'Steve Jobs: The Life, Lessons & Rules for Success':49.65}"
   ]
  },
  {
   "cell_type": "code",
   "execution_count": 29,
   "metadata": {},
   "outputs": [],
   "source": [
    "shipping_cost_list = []"
   ]
  },
  {
   "cell_type": "code",
   "execution_count": 30,
   "metadata": {},
   "outputs": [],
   "source": [
    "def shipping_cost(x):\n",
    "    return 4.65 + (x-1)*0.78"
   ]
  },
  {
   "cell_type": "code",
   "execution_count": 31,
   "metadata": {},
   "outputs": [],
   "source": [
    "def discount_price():\n",
    "    return 49.65*0.65 "
   ]
  },
  {
   "cell_type": "code",
   "execution_count": 32,
   "metadata": {},
   "outputs": [],
   "source": [
    "def wholesale_cost(x):\n",
    "    return shipping_cost(x) + x*discount_price()"
   ]
  },
  {
   "cell_type": "code",
   "execution_count": 33,
   "metadata": {},
   "outputs": [
    {
     "name": "stdout",
     "output_type": "stream",
     "text": [
      "Cost of  60  numbers of book at wholesale price is -  1987.02\n",
      "Cost of  100  numbers of book at wholesale price is -  3309.12\n",
      "Cost of  150  numbers of book at wholesale price is -  4961.74\n"
     ]
    }
   ],
   "source": [
    "for num in [60, 100, 150]:\n",
    "    print('Cost of ',num,' numbers of book at wholesale price is - ', round(wholesale_cost(num),2))"
   ]
  },
  {
   "cell_type": "markdown",
   "metadata": {},
   "source": [
    "<span style=\"font-family: Arial; font-weight:bold;font-size:1.5em;color:#5d067d;\">4. Design an air traffic control unit. Run way should be either free or busy,Each plane should request for landing, if the plane is given permission for landing the run way should be changed to busy and no plane should be given access to that runway.\n",
    "\n",
    "   1. Make a list of free run ways\n",
    "   \n",
    "    free_run_ways = [3,4,5]\n",
    "\n",
    "   2. Make a list of busy run ways.\n",
    "   \n",
    "    busy_run_ways = [1,2]\n",
    "\n",
    "   3. when pilot requests for landing give him runway from free run way and \n",
    "   \n",
    "    remove it from free and add to busy.\n",
    "    \n",
    "    runway given: 4\n",
    "    \n",
    "    free_run_ways = [3,5]\n",
    "    \n",
    "    busy_run_ways = [1,2,4]\n",
    "\n",
    "   4. If busy runway is given raise warning.\n",
    "   \n",
    "    WARNING run way busy\n",
    "\n",
    "   5. On landing remove runway from busy and add to free\n",
    "   \n",
    "    Landed: YES"
   ]
  },
  {
   "cell_type": "code",
   "execution_count": 59,
   "metadata": {},
   "outputs": [],
   "source": [
    "free_run_ways = [3,4,5]\n",
    "busy_run_ways = [1,2]"
   ]
  },
  {
   "cell_type": "code",
   "execution_count": 60,
   "metadata": {},
   "outputs": [],
   "source": [
    "def ATC(confirm):\n",
    "    print('*******************SEEKING PERMISSION********************')\n",
    "    if confirm.lower() == 'yes':\n",
    "        if len(free_run_ways) > 0:\n",
    "            run_way_given = free_run_ways.pop()\n",
    "            busy_run_ways.append(run_way_given)\n",
    "            print('RUNWAY FREE')\n",
    "        elif len(free_run_ways) == 0:\n",
    "            print('WARNING RUNWAY BUSY')\n",
    "        elif run_way_no not in free_run_ways:\n",
    "            print('WARNING RUNWAY BUSY')\n",
    "    elif confirm.lower() == 'no':\n",
    "        print('WARNING RUNWAY BUSY')\n",
    "    \n",
    "    print('************RUNWAYS ALLOCATION BEFORE LANDING**************')\n",
    "    print('free_run_ways -- ', free_run_ways)\n",
    "    print('busy_run_ways -- ', busy_run_ways)"
   ]
  },
  {
   "cell_type": "code",
   "execution_count": 61,
   "metadata": {},
   "outputs": [],
   "source": [
    "def landed_conformation(landed_confirmation, runway_no):\n",
    "    print('****************PROCEDDING FOR LANDING**************')\n",
    "    if landed_confirmation == True:\n",
    "        run_way_given.append(runway_no)\n",
    "        print('LANDED:YES')\n",
    "    else:\n",
    "        print('LANDED:NO')\n",
    "        \n",
    "       \n",
    "    print('************RUNWAYS ALLOCATION AFTER LANDING**************')\n",
    "    print('free_run_ways -- ', free_run_ways)\n",
    "    print('busy_run_ways -- ', busy_run_ways)\n",
    "        \n",
    "        "
   ]
  },
  {
   "cell_type": "code",
   "execution_count": 62,
   "metadata": {},
   "outputs": [
    {
     "name": "stdout",
     "output_type": "stream",
     "text": [
      "Can I land ? -- yes\n",
      "*******************SEEKING PERMISSION********************\n",
      "RUNWAY FREE\n",
      "************RUNWAYS ALLOCATION BEFORE LANDING**************\n",
      "free_run_ways --  [3, 4]\n",
      "busy_run_ways --  [1, 2, 5]\n",
      "Is aeroplane landed ? -- yes\n",
      "****************PROCEDDING FOR LANDING**************\n",
      "LANDED:NO\n",
      "************RUNWAYS ALLOCATION AFTER LANDING**************\n",
      "free_run_ways --  [3, 4]\n",
      "busy_run_ways --  [1, 2, 5]\n"
     ]
    }
   ],
   "source": [
    "permission = input('Can I land ? -- ')\n",
    "if permission.lower() == 'yes':\n",
    "    ATC(permission)\n",
    "    \n",
    "    landed_confirm = input('Is aeroplane landed ? -- ')\n",
    "    landed_conformation(landed_confirm, run_way_no)\n",
    "elif permission.lower() == 'no':\n",
    "    print('WARNING RUNWAY BUSY')"
   ]
  },
  {
   "cell_type": "markdown",
   "metadata": {},
   "source": [
    "-------------"
   ]
  },
  {
   "cell_type": "markdown",
   "metadata": {},
   "source": [
    "#  2 Questions X  10 Marks = 20 Marks\n"
   ]
  },
  {
   "cell_type": "markdown",
   "metadata": {},
   "source": [
    "--------"
   ]
  },
  {
   "cell_type": "markdown",
   "metadata": {},
   "source": [
    "<span style=\"font-family: Arial; font-weight:bold;font-size:1.5em;color:#5d067d;\">1.Your friend will take you to the doctor’s clinic for a check-up. He asks the time by which you have to book a taxi. Your friend has some works :  going to the dry-cleaners in the mall, have lunch in the restaurant, buy some dog food at the pet-shop, take money in the bank,  to be done on the way,\n",
    "It takes 'x' minutes to drive to the mall and park the vehicle, and 'y' minutes to get the clothes dry cleaned, ‘z' minutes for lunch, 'a' minutes to get dog food, 'b' minutes to get money at the bank and 'c' minutes to drive to the doctor’s clinic from the mall.  Given the values for ‘x’, ‘y’, ‘z’, ‘a’ and ‘b’ and the time of appointment as 'h' hour 'm' minutes, write an algorithm and the subsequent Python code to determine when you should leave home. For example if x is 10, y is 30, z is 65, a is 40, b is 20, c is 80 and h is 12 and m is 0, then output of the program is start from home by 7hours 55minutes .\n",
    "    \n",
    "Write appropriate functions for accomplishing the task.\n",
    "\n",
    "Input Format\n",
    "\n",
    "    First line contains the value for ‘x’\n",
    "    Next line contains the value for ‘y’\n",
    "    Next line contains the value for ‘z’\n",
    "    Next line contains the value for ‘a’\n",
    "    Next line contains the value for ‘b’\n",
    "    Next line contains the value for ‘c’\n",
    "    Next line contains the value for ‘h’\n",
    "    Next line contains the value for ‘m’\n",
    "    Output Format \n",
    "    Print the start time from home in ‘hours’ and ‘minutes’ in 24 hour format.  Hours and minutes shall be separated by a space."
   ]
  },
  {
   "cell_type": "code",
   "execution_count": 74,
   "metadata": {},
   "outputs": [],
   "source": [
    "from datetime import timedelta"
   ]
  },
  {
   "cell_type": "code",
   "execution_count": 63,
   "metadata": {},
   "outputs": [
    {
     "name": "stdout",
     "output_type": "stream",
     "text": [
      "Time from home to mall -- 10\n",
      "Time for dry clean -- 30\n",
      "Time for lunch -- 65\n",
      "Time for dog food -- 40\n",
      "Time for money -- 20\n",
      "Time from mall to doctor -- 80\n",
      "Time for appoinment in hr12\n",
      "Time for appoinment in mm00\n"
     ]
    }
   ],
   "source": [
    "home_to_mall = int(input('Time from home to mall -- '))\n",
    "dry_clean = int(input('Time for dry clean -- '))\n",
    "lunch = int(input('Time for lunch -- '))\n",
    "dog_food = int(input('Time for dog food -- '))\n",
    "money = int(input('Time for money -- '))\n",
    "mall_to_doctor = int(input('Time from mall to doctor -- '))\n",
    "appoinment_hr = int(input('Time for appoinment in hr -- '))\n",
    "appoinment_mm = int(input('Time for appoinment in mm -- '))"
   ]
  },
  {
   "cell_type": "code",
   "execution_count": 135,
   "metadata": {},
   "outputs": [],
   "source": [
    "total_time_friend_needed = dry_clean + lunch + dog_food + money + mall_to_doctor + home_to_mall"
   ]
  },
  {
   "cell_type": "code",
   "execution_count": 136,
   "metadata": {},
   "outputs": [],
   "source": [
    "t1 = timedelta(hours=12, minutes=0)"
   ]
  },
  {
   "cell_type": "code",
   "execution_count": 137,
   "metadata": {},
   "outputs": [],
   "source": [
    "t2 = timedelta(hours=0, minutes=total_time_friend_needed)"
   ]
  },
  {
   "cell_type": "code",
   "execution_count": 138,
   "metadata": {},
   "outputs": [],
   "source": [
    "depature_time = t1-t2"
   ]
  },
  {
   "cell_type": "code",
   "execution_count": 139,
   "metadata": {},
   "outputs": [
    {
     "data": {
      "text/plain": [
       "28500"
      ]
     },
     "execution_count": 139,
     "metadata": {},
     "output_type": "execute_result"
    }
   ],
   "source": [
    "depature_time.seconds"
   ]
  },
  {
   "cell_type": "code",
   "execution_count": 140,
   "metadata": {},
   "outputs": [
    {
     "data": {
      "text/plain": [
       "7.917"
      ]
     },
     "execution_count": 140,
     "metadata": {},
     "output_type": "execute_result"
    }
   ],
   "source": [
    "round(depature_time.seconds/3600,3)"
   ]
  },
  {
   "cell_type": "code",
   "execution_count": 141,
   "metadata": {},
   "outputs": [
    {
     "data": {
      "text/plain": [
       "7.916666666666667"
      ]
     },
     "execution_count": 141,
     "metadata": {},
     "output_type": "execute_result"
    }
   ],
   "source": [
    "depature_time.seconds/3600"
   ]
  },
  {
   "cell_type": "code",
   "execution_count": 142,
   "metadata": {},
   "outputs": [
    {
     "name": "stdout",
     "output_type": "stream",
     "text": [
      "Start time from home is , 7  hours and  55.02 minutes\n"
     ]
    }
   ],
   "source": [
    "print('Start time from home is ,',7,' hours', 'and ', 60*0.917,'minutes')"
   ]
  },
  {
   "cell_type": "markdown",
   "metadata": {},
   "source": [
    "<span style=\"font-family: Arial; font-weight:bold;font-size:1.5em;color:#5d067d;\">2. India conducted a survey on Data Secience colleges in India. Let us assume that the survey was conducted in ‘n’ number of institutes. The experts were asked to rank the institutes based on three different metrics. The metrics are facilities, academics and infrastructure. Maximum score in each category is as follows.\n",
    "    \n",
    "    Facilities = 25\n",
    "    Academics = 50\n",
    "    Infrastructure = 25\n",
    "\n",
    "At the end of the survey the scores of the individual metrics are added up to get the total score and the institutes are ranked based on the total score. The institute that scores the highest score is ranked 1st. Next highest score is given the rank 2 and so on. Write a program to read the scores of the three metrics for each institute, store the scores in a list. Make a list of individual score list for 3 institutes. Print only the Total score in the sorted (Descending) order. \n",
    "\n",
    "**Input format:**\n",
    "\n",
    "    First line contains the number of institutes\n",
    "    Next line contains the scores for Facilities of Institute 1\n",
    "    Next line contains the scores for Academics of Institute 1\n",
    "    Next line contains the scores for Infrastructure of Institute 1\n",
    "    Next line contains the scores for Facilities of Institute 2\n",
    "    Next line contains the scores for Academics of Institute 2\n",
    "    Next line contains the scores for Infrastructure of Institute 2\n",
    "    Next line contains the scores for Facilities of Instituten\n",
    "    Next line contains the scores for Academics of Instituten\n",
    "    Next line contains the scores for Infrastructure of Instituten\n",
    "    \n",
    "    \n",
    "    Note: Facilities = 25 if your giving above 25 code will display:\"score cant exceed 25, please enter again\"\n",
    "          Academics = 50 if your giving above 50 code will display:\"score cant exceed 50, please enter again\"\n",
    "          Infrastructure = 25 if your giving above 25 code will display:\"score cant exceed 25, please enter again\"\n",
    "    \n",
    "**Output format:**\n",
    "\n",
    "List of total scores in the descending order\n",
    "sample input:\n",
    "\n",
    "    3 \n",
    "    20\n",
    "    20\n",
    "    20\n",
    "    22\n",
    "    22\n",
    "    22\n",
    "    21\n",
    "    21\n",
    "    21\n",
    "**sample output:**\n",
    "[66,63,60]"
   ]
  },
  {
   "cell_type": "code",
   "execution_count": 24,
   "metadata": {},
   "outputs": [],
   "source": [
    "inst_list = []"
   ]
  },
  {
   "cell_type": "code",
   "execution_count": 25,
   "metadata": {},
   "outputs": [],
   "source": [
    "final_score_list = []"
   ]
  },
  {
   "cell_type": "code",
   "execution_count": 26,
   "metadata": {},
   "outputs": [
    {
     "name": "stdout",
     "output_type": "stream",
     "text": [
      "The scores for Facilities of Institute -- 20\n",
      "The scores for Academics of Institute -- 20\n",
      "The scores for Infrastructure of Institute -- 20\n",
      "The scores for Facilities of Institute -- 22\n",
      "The scores for Academics of Institute -- 22\n",
      "The scores for Infrastructure of Institute -- 22\n",
      "The scores for Facilities of Institute -- 21\n",
      "The scores for Academics of Institute -- 21\n",
      "The scores for Infrastructure of Institute -- 21\n"
     ]
    }
   ],
   "source": [
    "for i in range(0,3):\n",
    "    institute_i = []\n",
    "    Facilities = int(input('The scores for Facilities of Institute -- '  ))\n",
    "    Academics = int(input('The scores for Academics of Institute -- '))\n",
    "    Infrastructure = int(input('The scores for Infrastructure of Institute -- '))\n",
    "    institute_i.append(Facilities)\n",
    "    institute_i.append(Academics)\n",
    "    institute_i.append(Infrastructure)\n",
    "    inst_list.append(institute_i)"
   ]
  },
  {
   "cell_type": "code",
   "execution_count": 27,
   "metadata": {},
   "outputs": [],
   "source": [
    "for lst in inst_list:\n",
    "    final_score_list.append(sum(lst))"
   ]
  },
  {
   "cell_type": "code",
   "execution_count": 32,
   "metadata": {},
   "outputs": [
    {
     "data": {
      "text/plain": [
       "[66, 63, 60]"
      ]
     },
     "execution_count": 32,
     "metadata": {},
     "output_type": "execute_result"
    }
   ],
   "source": [
    "sorted(final_score_list, reverse = True)"
   ]
  },
  {
   "cell_type": "markdown",
   "metadata": {},
   "source": [
    "------------"
   ]
  },
  {
   "cell_type": "markdown",
   "metadata": {},
   "source": [
    "#  2 Questions X  15 Marks = 30 Marks\n",
    "\n"
   ]
  },
  {
   "cell_type": "markdown",
   "metadata": {},
   "source": [
    "----------"
   ]
  },
  {
   "cell_type": "markdown",
   "metadata": {},
   "source": [
    "<span style=\"font-family: Arial; font-weight:bold;font-size:1.5em;color:#5d067d;\">1.You won a lottery ticket at your office.You have a chance to attend given list of best party places in bangalore timings at (6 pm to 12 am). Because of the high demand for tickets you only get to stay for one hour but you get to pick your choice of party place since you received a special ticket. You have access to a schedule that lists when exactly each loction is going to host the party. You want to get as many pictures with celebrities as possible to improve your social standing. This means you wish to go for the hour when you get to hob-nob with the maximum number of loction and get selfies with each of party location. We are given a list of intervals that correspond to when each celebrity and locations comes and goes. Assume that these intervals are **(i,j)**, where  i and j correspond to hours. That is, the interval is closed on the left hand side and open on the right hand side. This just means that the celebrity will be partying on and through the hour, but enter at \"ith hour\" and goes at \"jth hour\". So even if you arrive on dot on the \"jth hour\", you will miss this particular celebrity.\n",
    "    \n",
    "    Here’s an example: \n",
    "    \n",
    "| loction & celebrity names  |  comes |goes|\n",
    "| ------- |  ------ | ------|\n",
    "| Big Brewsky: Katy Perry |  7  | 10 |\n",
    "| Pebble:Eminam | 7 | 11 |\n",
    "|  XU: justin timberlake | 6 | 8|\n",
    "| Skyye Lounge:ED Sheeran  | 10 | 12|\n",
    "| Ice:Taylor Swift  | 8 | 10|\n",
    "| High Ultra Lounge:Ariana Grande  | 9 | 11|\n",
    "| The Warehouse:Adele  | 6 | 8 |\n",
    "\n",
    "\n",
    "**Problem Statements:**   \n",
    "\n",
    " **Find the how many celebrities are attending the party and at what time? That is, which hour should you go to ?**\n",
    " \n",
    "**Exercise 1:** Suppose your are a busy at work and don’t have complete freedom\n",
    "in choosing when you can go to the party. Add arguments to the procedure. \n",
    "\n",
    "Create function called bestTimeToPartySmart and modify it so it determines the maximum number of\n",
    "celebrities you can see within a given time range between i start and y end. As with\n",
    "celebrities the interval is [i start, y end]  so you are available at all times t such that istart <= t < yend.\n",
    "\"y = employee spending time at party \"\n",
    "\n",
    "**Exercise 2:** There is an alternative way of computing the best time to party that does not\n",
    "depend on the granularity of time. We choose each celebrity interval in turn, and\n",
    "determine how many other celebrity intervals contain the chosen celebrity’s start time.\n",
    "We pick the time to attend the party to be the start time of the celebrity whose start time\n",
    "is contained in the maximum number of other celebrity intervals. Code this algorithm\n",
    "and verify that it produces the same answer as the algorithm based on sorting. \n",
    "\n",
    "\n",
    "**Exercise 3:** Follow the given schedule timings \n",
    "\n",
    "**INPUT: schedule:1 =** [(7, 10), (7, 11), (6, 8), (10, 11), (8, 10), (9, 11), (6, 8)]\n",
    "\n",
    "           OUTPUT: Best time to attend the party is at 7 o'clock : 4 celebrities will be attending!\n",
    "\n",
    "\n",
    "Here there is 12 celebrity chedule timings \n",
    "\n",
    "**INPUT: schedule:2  =** [(6, 8), (6, 12), (6, 7), (7, 8), (7, 10), (8, 9),\n",
    "          (8, 10), (9, 12), (9, 10), (10, 11), (10, 12), (11, 12)]\n",
    "          \n",
    "          OUTPUT:Best time to attend the party is at 9 o'clock : 5 celebrities will be attending!\n",
    "          \n",
    "**schedule:3 =** [(6, 7), (7,9), (10, 11), (10, 12), (8, 10), (9, 11), (6, 8),\n",
    "          (9, 10), (11, 12), (11, 12), (8, 11) ,(10, 12)]\n",
    "          \n",
    "           OUTPUT:Best time to attend the party is at 10 o'clock : 5 celebrities will be attending!\n",
    "\n",
    "   \n",
    "    "
   ]
  },
  {
   "cell_type": "markdown",
   "metadata": {},
   "source": [
    "### EXERCISE 1"
   ]
  },
  {
   "cell_type": "code",
   "execution_count": 143,
   "metadata": {},
   "outputs": [],
   "source": [
    "celb_dict = {7:10,7:11,6:8,10:12,8:10,9:11,6:8}"
   ]
  },
  {
   "cell_type": "code",
   "execution_count": 145,
   "metadata": {},
   "outputs": [],
   "source": [
    "start_list = list(celb_dict.keys())\n",
    "end_list = list(celb_dict.values())"
   ]
  },
  {
   "cell_type": "code",
   "execution_count": null,
   "metadata": {},
   "outputs": [],
   "source": [
    "def bestTimeToPartySmart(y):\n",
    "    count = 0\n",
    "    for i in start_list:\n",
    "        if y <= i:\n",
    "            count = count + 1    "
   ]
  },
  {
   "cell_type": "code",
   "execution_count": null,
   "metadata": {},
   "outputs": [],
   "source": []
  },
  {
   "cell_type": "code",
   "execution_count": null,
   "metadata": {},
   "outputs": [],
   "source": []
  },
  {
   "cell_type": "code",
   "execution_count": null,
   "metadata": {},
   "outputs": [],
   "source": []
  },
  {
   "cell_type": "code",
   "execution_count": null,
   "metadata": {},
   "outputs": [],
   "source": []
  },
  {
   "cell_type": "code",
   "execution_count": null,
   "metadata": {},
   "outputs": [],
   "source": []
  },
  {
   "cell_type": "markdown",
   "metadata": {},
   "source": [
    "<span style=\"font-family: Arial; font-weight:bold;font-size:1.5em;color:#5d067d;\">2.Find the \"he\" in given below story and also count of 'he':\n",
    "    \n",
    "**Input:** There was an old owl that lived in an oak. Every day he saw incidents happening around him. Yesterday he saw a boy helping an old man to carry a heavy basket. Today he saw a girl shouting at her mother. The more he saw the less he spoke. As he spoke less, he heard more. He heard people talking and telling stories. He heard a woman saying that an elephant jumped over a fence. He also heard a man saying that he had never made a mistake. The old owl had seen and heard about what happened to people. Some became better and some became worse. But the old owl had become wiser each and every day.\n"
   ]
  },
  {
   "cell_type": "markdown",
   "metadata": {},
   "source": [
    "**Output:** where he appears is indicated below ... there were:22:Instance\n",
    "\n",
    "T[he]re was an old owl that lived in an oak. Every day [he] saw incidents happening around him. Yesterday [he] saw a boy [he]lping an old man to carry a [he]avy basket. Today [he] saw a girl shouting at [he]r mot[he]r. T[he] more [he] saw t[he] less [he] spoke. As [he] spoke less, [he] [he]ard more. He [he]ard people talking and telling stories. He [he]ard a woman saying that an elephant jumped over a fence. He also [he]ard a man saying that [he] had never made a mistake. T[he] old owl had seen and [he]ard about what happened to people. Some became better and some became worse. But t[he] old owl had become wiser each and every day."
   ]
  },
  {
   "cell_type": "code",
   "execution_count": 34,
   "metadata": {},
   "outputs": [],
   "source": [
    "import re"
   ]
  },
  {
   "cell_type": "code",
   "execution_count": 35,
   "metadata": {},
   "outputs": [],
   "source": [
    "input_str = 'There was an old owl that lived in an oak. Every day he saw incidents happening around him. Yesterday he saw a boy helping an old man to carry a heavy basket. Today he saw a girl shouting at her mother. The more he saw the less he spoke. As he spoke less, he heard more. He heard people talking and telling stories. He heard a woman saying that an elephant jumped over a fence. He also heard a man saying that he had never made a mistake. The old owl had seen and heard about what happened to people. Some became better and some became worse. But the old owl had become wiser each and every day.'"
   ]
  },
  {
   "cell_type": "code",
   "execution_count": 36,
   "metadata": {},
   "outputs": [
    {
     "data": {
      "text/plain": [
       "'There was an old owl that lived in an oak. Every day he saw incidents happening around him. Yesterday he saw a boy helping an old man to carry a heavy basket. Today he saw a girl shouting at her mother. The more he saw the less he spoke. As he spoke less, he heard more. He heard people talking and telling stories. He heard a woman saying that an elephant jumped over a fence. He also heard a man saying that he had never made a mistake. The old owl had seen and heard about what happened to people. Some became better and some became worse. But the old owl had become wiser each and every day.'"
      ]
     },
     "execution_count": 36,
     "metadata": {},
     "output_type": "execute_result"
    }
   ],
   "source": [
    "input_str"
   ]
  },
  {
   "cell_type": "code",
   "execution_count": 44,
   "metadata": {},
   "outputs": [],
   "source": [
    "lst = re.findall(r'[h][e]', input_str)"
   ]
  },
  {
   "cell_type": "code",
   "execution_count": 48,
   "metadata": {},
   "outputs": [
    {
     "name": "stdout",
     "output_type": "stream",
     "text": [
      "Number of times he occures is --  22\n"
     ]
    }
   ],
   "source": [
    "print('Number of times he occures is -- ',len(lst))"
   ]
  },
  {
   "cell_type": "code",
   "execution_count": 46,
   "metadata": {},
   "outputs": [],
   "source": [
    "words = input_str.split()"
   ]
  },
  {
   "cell_type": "code",
   "execution_count": 50,
   "metadata": {},
   "outputs": [],
   "source": [
    "he_word_lst = []"
   ]
  },
  {
   "cell_type": "code",
   "execution_count": 52,
   "metadata": {},
   "outputs": [],
   "source": [
    "for word in words:\n",
    "    if 'he' in word:\n",
    "        he_word_lst.append(word)"
   ]
  },
  {
   "cell_type": "code",
   "execution_count": 54,
   "metadata": {},
   "outputs": [
    {
     "name": "stdout",
     "output_type": "stream",
     "text": [
      "['There', 'he', 'he', 'helping', 'heavy', 'he', 'her', 'mother.', 'The', 'he', 'the', 'he', 'he', 'he', 'heard', 'heard', 'heard', 'heard', 'he', 'The', 'heard', 'the']\n"
     ]
    }
   ],
   "source": [
    "print(he_word_lst)"
   ]
  },
  {
   "cell_type": "code",
   "execution_count": null,
   "metadata": {},
   "outputs": [],
   "source": []
  }
 ],
 "metadata": {
  "kernelspec": {
   "display_name": "Python 3",
   "language": "python",
   "name": "python3"
  },
  "language_info": {
   "codemirror_mode": {
    "name": "ipython",
    "version": 3
   },
   "file_extension": ".py",
   "mimetype": "text/x-python",
   "name": "python",
   "nbconvert_exporter": "python",
   "pygments_lexer": "ipython3",
   "version": "3.7.3"
  }
 },
 "nbformat": 4,
 "nbformat_minor": 2
}
