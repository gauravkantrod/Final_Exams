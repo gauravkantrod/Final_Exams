{
 "cells": [
  {
   "cell_type": "markdown",
   "metadata": {},
   "source": [
    "<span style=\"font-family: Arial; font-weight:bold;font-size:1em;color:#f0f0f0;\">..............................................\n",
    "    <span style=\"font-family: Arial; font-weight:bold;font-size:3.2em;color:#c7920e;\">EDA EXAM FOR 70 MARKS "
   ]
  },
  {
   "cell_type": "markdown",
   "metadata": {},
   "source": [
    "--------"
   ]
  },
  {
   "cell_type": "markdown",
   "metadata": {},
   "source": [
    "# 4 Questions X  5 Marks = 20 Marks\n"
   ]
  },
  {
   "cell_type": "markdown",
   "metadata": {},
   "source": [
    "--------"
   ]
  },
  {
   "cell_type": "markdown",
   "metadata": {},
   "source": [
    "#### 1.A) For the Dataset given below. Write a code to remove Hyphen (-) and Change  the datatype of the column to numeric ? (2 Marks)\n",
    "\n",
    "![Image of Yaktocat](2.png)"
   ]
  },
  {
   "cell_type": "code",
   "execution_count": 2,
   "metadata": {},
   "outputs": [],
   "source": [
    "import pandas as pd"
   ]
  },
  {
   "cell_type": "code",
   "execution_count": null,
   "metadata": {},
   "outputs": [],
   "source": [
    "df['Occupation'] = df['Occupation'].str.replace('-','0')"
   ]
  },
  {
   "cell_type": "code",
   "execution_count": null,
   "metadata": {},
   "outputs": [],
   "source": [
    "df['Occupation'] = df['Occupation'].astype(int)"
   ]
  },
  {
   "cell_type": "markdown",
   "metadata": {},
   "source": [
    "#### B)For the Dataset given below. Write a code to convert 'F' Category  as 0 and 'M' category  as 1 for the 'Gender' column ? (1 Mark)"
   ]
  },
  {
   "cell_type": "markdown",
   "metadata": {},
   "source": [
    "![Image of Yaktocat](1.png)"
   ]
  },
  {
   "cell_type": "code",
   "execution_count": null,
   "metadata": {},
   "outputs": [],
   "source": [
    "df['Gender'] = df['Gender'].map({'F':0,'M':1})"
   ]
  },
  {
   "cell_type": "markdown",
   "metadata": {},
   "source": [
    "#### 1.C)For the Dataset given below. Create a calculated field Male_Ratio which Calculates the ratio of Male Population to the total population ? (2 Mark)"
   ]
  },
  {
   "cell_type": "markdown",
   "metadata": {},
   "source": [
    "![Image of Yaktocat](Question5.png)"
   ]
  },
  {
   "cell_type": "code",
   "execution_count": null,
   "metadata": {},
   "outputs": [],
   "source": [
    "df['Male_Ratio'] = df['population_male']/df['population_total']"
   ]
  },
  {
   "cell_type": "markdown",
   "metadata": {},
   "source": [
    "<span style=\"font-family: Arial; font-weight:bold;font-size:1.5em;color:#a61652;\"> 2. Read the dataset(BlackFriday.csv) answer the questions below\n",
    "    \n",
    "2.A) Draw the Count Plot for the Occupation Column and Write your inference? (1 Marks)\n",
    "\n",
    "2.B) Split the Dataset into Train and Test. Also give us the reason behind your split \n",
    "\n",
    "2.C) What is Imbalance in a Classification problem ? How do you overcome it? Write a code for SMOTE (No need to execute)? (2 Marks)"
   ]
  },
  {
   "cell_type": "code",
   "execution_count": 165,
   "metadata": {},
   "outputs": [],
   "source": [
    "import numpy as np"
   ]
  },
  {
   "cell_type": "code",
   "execution_count": 166,
   "metadata": {},
   "outputs": [],
   "source": [
    "import matplotlib.pyplot as plt\n",
    "import seaborn as sns"
   ]
  },
  {
   "cell_type": "code",
   "execution_count": 167,
   "metadata": {},
   "outputs": [
    {
     "name": "stderr",
     "output_type": "stream",
     "text": [
      "/Applications/anaconda3/lib/python3.7/site-packages/IPython/core/interactiveshell.py:3058: DtypeWarning: Columns (4) have mixed types. Specify dtype option on import or set low_memory=False.\n",
      "  interactivity=interactivity, compiler=compiler, result=result)\n"
     ]
    }
   ],
   "source": [
    "df_BF = pd.read_csv('BlackFriday.csv')"
   ]
  },
  {
   "cell_type": "code",
   "execution_count": 168,
   "metadata": {},
   "outputs": [
    {
     "data": {
      "text/plain": [
       "User_ID                         int64\n",
       "Product_ID                     object\n",
       "Gender                         object\n",
       "Age                            object\n",
       "Occupation                     object\n",
       "City_Category                  object\n",
       "Stay_In_Current_City_Years     object\n",
       "Marital_Status                  int64\n",
       "Product_Category_1              int64\n",
       "Product_Category_2            float64\n",
       "Product_Category_3            float64\n",
       "Purchase                        int64\n",
       "dtype: object"
      ]
     },
     "execution_count": 168,
     "metadata": {},
     "output_type": "execute_result"
    }
   ],
   "source": [
    "df_BF.dtypes"
   ]
  },
  {
   "cell_type": "code",
   "execution_count": 169,
   "metadata": {},
   "outputs": [
    {
     "data": {
      "text/html": [
       "<div>\n",
       "<style scoped>\n",
       "    .dataframe tbody tr th:only-of-type {\n",
       "        vertical-align: middle;\n",
       "    }\n",
       "\n",
       "    .dataframe tbody tr th {\n",
       "        vertical-align: top;\n",
       "    }\n",
       "\n",
       "    .dataframe thead th {\n",
       "        text-align: right;\n",
       "    }\n",
       "</style>\n",
       "<table border=\"1\" class=\"dataframe\">\n",
       "  <thead>\n",
       "    <tr style=\"text-align: right;\">\n",
       "      <th></th>\n",
       "      <th>User_ID</th>\n",
       "      <th>Product_ID</th>\n",
       "      <th>Gender</th>\n",
       "      <th>Age</th>\n",
       "      <th>Occupation</th>\n",
       "      <th>City_Category</th>\n",
       "      <th>Stay_In_Current_City_Years</th>\n",
       "      <th>Marital_Status</th>\n",
       "      <th>Product_Category_1</th>\n",
       "      <th>Product_Category_2</th>\n",
       "      <th>Product_Category_3</th>\n",
       "      <th>Purchase</th>\n",
       "    </tr>\n",
       "  </thead>\n",
       "  <tbody>\n",
       "    <tr>\n",
       "      <th>0</th>\n",
       "      <td>1000001</td>\n",
       "      <td>P00069042</td>\n",
       "      <td>F</td>\n",
       "      <td>0-17</td>\n",
       "      <td>10</td>\n",
       "      <td>A</td>\n",
       "      <td>2</td>\n",
       "      <td>0</td>\n",
       "      <td>3</td>\n",
       "      <td>NaN</td>\n",
       "      <td>NaN</td>\n",
       "      <td>8370</td>\n",
       "    </tr>\n",
       "    <tr>\n",
       "      <th>1</th>\n",
       "      <td>1000001</td>\n",
       "      <td>P00248942</td>\n",
       "      <td>F</td>\n",
       "      <td>0-17</td>\n",
       "      <td>10</td>\n",
       "      <td>A</td>\n",
       "      <td>2</td>\n",
       "      <td>0</td>\n",
       "      <td>1</td>\n",
       "      <td>6.0</td>\n",
       "      <td>14.0</td>\n",
       "      <td>15200</td>\n",
       "    </tr>\n",
       "    <tr>\n",
       "      <th>2</th>\n",
       "      <td>1000001</td>\n",
       "      <td>P00087842</td>\n",
       "      <td>F</td>\n",
       "      <td>0-17</td>\n",
       "      <td>10</td>\n",
       "      <td>A</td>\n",
       "      <td>2</td>\n",
       "      <td>0</td>\n",
       "      <td>12</td>\n",
       "      <td>NaN</td>\n",
       "      <td>NaN</td>\n",
       "      <td>1422</td>\n",
       "    </tr>\n",
       "    <tr>\n",
       "      <th>3</th>\n",
       "      <td>1000001</td>\n",
       "      <td>P00085442</td>\n",
       "      <td>F</td>\n",
       "      <td>0-17</td>\n",
       "      <td>10</td>\n",
       "      <td>A</td>\n",
       "      <td>2</td>\n",
       "      <td>0</td>\n",
       "      <td>12</td>\n",
       "      <td>14.0</td>\n",
       "      <td>NaN</td>\n",
       "      <td>1057</td>\n",
       "    </tr>\n",
       "    <tr>\n",
       "      <th>4</th>\n",
       "      <td>1000002</td>\n",
       "      <td>P00285442</td>\n",
       "      <td>M</td>\n",
       "      <td>55+</td>\n",
       "      <td>16</td>\n",
       "      <td>C</td>\n",
       "      <td>4+</td>\n",
       "      <td>0</td>\n",
       "      <td>8</td>\n",
       "      <td>NaN</td>\n",
       "      <td>NaN</td>\n",
       "      <td>7969</td>\n",
       "    </tr>\n",
       "  </tbody>\n",
       "</table>\n",
       "</div>"
      ],
      "text/plain": [
       "   User_ID Product_ID Gender   Age Occupation City_Category  \\\n",
       "0  1000001  P00069042      F  0-17         10             A   \n",
       "1  1000001  P00248942      F  0-17         10             A   \n",
       "2  1000001  P00087842      F  0-17         10             A   \n",
       "3  1000001  P00085442      F  0-17         10             A   \n",
       "4  1000002  P00285442      M   55+         16             C   \n",
       "\n",
       "  Stay_In_Current_City_Years  Marital_Status  Product_Category_1  \\\n",
       "0                          2               0                   3   \n",
       "1                          2               0                   1   \n",
       "2                          2               0                  12   \n",
       "3                          2               0                  12   \n",
       "4                         4+               0                   8   \n",
       "\n",
       "   Product_Category_2  Product_Category_3  Purchase  \n",
       "0                 NaN                 NaN      8370  \n",
       "1                 6.0                14.0     15200  \n",
       "2                 NaN                 NaN      1422  \n",
       "3                14.0                 NaN      1057  \n",
       "4                 NaN                 NaN      7969  "
      ]
     },
     "execution_count": 169,
     "metadata": {},
     "output_type": "execute_result"
    }
   ],
   "source": [
    "df_BF.head()"
   ]
  },
  {
   "cell_type": "markdown",
   "metadata": {},
   "source": [
    "#### 2. A) Draw the Count Plot for the Occupation Column and Write your inference? (1 Marks)"
   ]
  },
  {
   "cell_type": "code",
   "execution_count": 192,
   "metadata": {},
   "outputs": [
    {
     "data": {
      "text/plain": [
       "array(['10', '16', '-', '7', '20', '9', '1', '12', '17', '0', '3', '15',\n",
       "       '4', '11', '8', '19', '2', '18', '5', '14', '13', '6'],\n",
       "      dtype=object)"
      ]
     },
     "execution_count": 192,
     "metadata": {},
     "output_type": "execute_result"
    }
   ],
   "source": [
    "df_BF['Occupation'].unique()"
   ]
  },
  {
   "cell_type": "code",
   "execution_count": 193,
   "metadata": {},
   "outputs": [
    {
     "data": {
      "image/png": "[encoded data removed]",
      "text/plain": [
       "<Figure size 1008x432 with 1 Axes>"
      ]
     },
     "metadata": {
      "needs_background": "light"
     },
     "output_type": "display_data"
    }
   ],
   "source": [
    "f, ax = plt.subplots(figsize = (14,6))\n",
    "sns.countplot(df_BF['Occupation'])\n",
    "plt.show()"
   ]
  },
  {
   "cell_type": "markdown",
   "metadata": {},
   "source": [
    "Occupation category 4 is the job where the highest number of people are employed "
   ]
  },
  {
   "cell_type": "markdown",
   "metadata": {},
   "source": [
    "#### 2.B) Split the Dataset into Train and Test. Also give us the reason behind your split \n",
    "    \n",
    "   Assume Purchase Column to be the Target variable? (2 Marks) "
   ]
  },
  {
   "cell_type": "code",
   "execution_count": 171,
   "metadata": {},
   "outputs": [],
   "source": [
    "from sklearn.model_selection import train_test_split"
   ]
  },
  {
   "cell_type": "code",
   "execution_count": 172,
   "metadata": {},
   "outputs": [],
   "source": [
    "X = df_BF.loc[:,'User_ID':'Product_Category_3']"
   ]
  },
  {
   "cell_type": "code",
   "execution_count": 173,
   "metadata": {},
   "outputs": [],
   "source": [
    "y = df_BF['Purchase']"
   ]
  },
  {
   "cell_type": "code",
   "execution_count": 174,
   "metadata": {},
   "outputs": [],
   "source": [
    "X_train, X_test, y_train, y_test = train_test_split(X, y, test_size = 0.3, random_state = 0)"
   ]
  },
  {
   "cell_type": "markdown",
   "metadata": {},
   "source": [
    "We split the data so that we can train the model on some particular portion of data and test on the remaning portion of data. This is done to test the model evaluation parameters."
   ]
  },
  {
   "cell_type": "markdown",
   "metadata": {},
   "source": [
    "#### 2. C) What is Imbalance in a Classification problem ? How do you overcome it? Write a  code for SMOTE (No need to execute)? (2 Marks)"
   ]
  },
  {
   "cell_type": "markdown",
   "metadata": {},
   "source": [
    "Imbalance in classification problem occurs when we have different proportions of outcomes i.e less 1 and more 0 or more 1 and less 0  "
   ]
  },
  {
   "cell_type": "markdown",
   "metadata": {},
   "source": [
    "We can overcome with oversampling on minority results by using SMOTE"
   ]
  },
  {
   "cell_type": "markdown",
   "metadata": {},
   "source": [
    "smote = SMOTE()"
   ]
  },
  {
   "cell_type": "markdown",
   "metadata": {},
   "source": [
    "<span style=\"font-family: Arial; font-weight:bold;font-size:1.5em;color:#a61652;\"> 3. Read the dataset(BlackFriday.csv) answer the questions below\n",
    "\n",
    "3.A)Create a crosstab for (Purchase Vs Marital_Status) write your observation? (2 Marks)\n",
    "\n",
    "3.B) How does the distribution of 'Purchase' looks like?  Perform test of normality \"Purchase\"?(2 Marks)\n",
    "\n",
    "3.C) How do you handle object variables. Write down the code for the same? (2 Marks)\n"
   ]
  },
  {
   "cell_type": "markdown",
   "metadata": {},
   "source": [
    "#### 3. A)Create a crosstab for (Purchase Vs Marital_Status) write your observation? (2 Marks)\n"
   ]
  },
  {
   "cell_type": "code",
   "execution_count": 176,
   "metadata": {},
   "outputs": [
    {
     "data": {
      "text/html": [
       "<div>\n",
       "<style scoped>\n",
       "    .dataframe tbody tr th:only-of-type {\n",
       "        vertical-align: middle;\n",
       "    }\n",
       "\n",
       "    .dataframe tbody tr th {\n",
       "        vertical-align: top;\n",
       "    }\n",
       "\n",
       "    .dataframe thead th {\n",
       "        text-align: right;\n",
       "    }\n",
       "</style>\n",
       "<table border=\"1\" class=\"dataframe\">\n",
       "  <thead>\n",
       "    <tr style=\"text-align: right;\">\n",
       "      <th>Marital_Status</th>\n",
       "      <th>0</th>\n",
       "      <th>1</th>\n",
       "      <th>All</th>\n",
       "    </tr>\n",
       "    <tr>\n",
       "      <th>Purchase</th>\n",
       "      <th></th>\n",
       "      <th></th>\n",
       "      <th></th>\n",
       "    </tr>\n",
       "  </thead>\n",
       "  <tbody>\n",
       "    <tr>\n",
       "      <th>185</th>\n",
       "      <td>4</td>\n",
       "      <td>0</td>\n",
       "      <td>4</td>\n",
       "    </tr>\n",
       "    <tr>\n",
       "      <th>186</th>\n",
       "      <td>3</td>\n",
       "      <td>1</td>\n",
       "      <td>4</td>\n",
       "    </tr>\n",
       "    <tr>\n",
       "      <th>187</th>\n",
       "      <td>3</td>\n",
       "      <td>1</td>\n",
       "      <td>4</td>\n",
       "    </tr>\n",
       "    <tr>\n",
       "      <th>188</th>\n",
       "      <td>5</td>\n",
       "      <td>1</td>\n",
       "      <td>6</td>\n",
       "    </tr>\n",
       "    <tr>\n",
       "      <th>189</th>\n",
       "      <td>2</td>\n",
       "      <td>0</td>\n",
       "      <td>2</td>\n",
       "    </tr>\n",
       "    <tr>\n",
       "      <th>...</th>\n",
       "      <td>...</td>\n",
       "      <td>...</td>\n",
       "      <td>...</td>\n",
       "    </tr>\n",
       "    <tr>\n",
       "      <th>23958</th>\n",
       "      <td>2</td>\n",
       "      <td>2</td>\n",
       "      <td>4</td>\n",
       "    </tr>\n",
       "    <tr>\n",
       "      <th>23959</th>\n",
       "      <td>1</td>\n",
       "      <td>1</td>\n",
       "      <td>2</td>\n",
       "    </tr>\n",
       "    <tr>\n",
       "      <th>23960</th>\n",
       "      <td>1</td>\n",
       "      <td>3</td>\n",
       "      <td>4</td>\n",
       "    </tr>\n",
       "    <tr>\n",
       "      <th>23961</th>\n",
       "      <td>2</td>\n",
       "      <td>1</td>\n",
       "      <td>3</td>\n",
       "    </tr>\n",
       "    <tr>\n",
       "      <th>All</th>\n",
       "      <td>317817</td>\n",
       "      <td>219760</td>\n",
       "      <td>537577</td>\n",
       "    </tr>\n",
       "  </tbody>\n",
       "</table>\n",
       "<p>17960 rows × 3 columns</p>\n",
       "</div>"
      ],
      "text/plain": [
       "Marital_Status       0       1     All\n",
       "Purchase                              \n",
       "185                  4       0       4\n",
       "186                  3       1       4\n",
       "187                  3       1       4\n",
       "188                  5       1       6\n",
       "189                  2       0       2\n",
       "...                ...     ...     ...\n",
       "23958                2       2       4\n",
       "23959                1       1       2\n",
       "23960                1       3       4\n",
       "23961                2       1       3\n",
       "All             317817  219760  537577\n",
       "\n",
       "[17960 rows x 3 columns]"
      ]
     },
     "execution_count": 176,
     "metadata": {},
     "output_type": "execute_result"
    }
   ],
   "source": [
    "pd.crosstab(df_BF['Purchase'],df_BF['Marital_Status'], margins=True)"
   ]
  },
  {
   "cell_type": "markdown",
   "metadata": {},
   "source": [
    "#### 3. B)How does the distribution of 'Purchase' looks like?  Perform test of normality \"Purchase\"?(2 Marks)"
   ]
  },
  {
   "cell_type": "code",
   "execution_count": 177,
   "metadata": {},
   "outputs": [
    {
     "data": {
      "image/png": "[encoded data removed]",
      "text/plain": [
       "<Figure size 432x288 with 1 Axes>"
      ]
     },
     "metadata": {
      "needs_background": "light"
     },
     "output_type": "display_data"
    }
   ],
   "source": [
    "sns.distplot(df_BF['Purchase'])\n",
    "plt.show()"
   ]
  },
  {
   "cell_type": "markdown",
   "metadata": {},
   "source": [
    "#### 3.C) How do you handle object variables. Write down the code for the same? (1 Marks)"
   ]
  },
  {
   "cell_type": "markdown",
   "metadata": {},
   "source": [
    "We handle object variables by changing the data types as desired i.e to category, str, int, etc"
   ]
  },
  {
   "cell_type": "code",
   "execution_count": 178,
   "metadata": {},
   "outputs": [],
   "source": [
    "df_BF['Occupation'] = df_BF['Occupation'].astype(str)"
   ]
  },
  {
   "cell_type": "markdown",
   "metadata": {},
   "source": [
    "<span style=\"font-family: Arial; font-weight:bold;font-size:1.5em;color:#a61652;\"> 4. Read the dataset(BlackFriday.csv) answer the questions below\n",
    "\n",
    "4.A) Check for Null Values? (1 Marks)\n",
    "\n",
    "4.B) Treat the Null values and also state the reason for the method used(2 Marks) \n",
    "\n",
    "4.C) Which gender has made bought more ? (2 Marks)"
   ]
  },
  {
   "cell_type": "markdown",
   "metadata": {},
   "source": [
    "#### 4.A) Check for Null Values? (1 Marks)"
   ]
  },
  {
   "cell_type": "code",
   "execution_count": 179,
   "metadata": {},
   "outputs": [
    {
     "data": {
      "text/plain": [
       "User_ID                        0.000000\n",
       "Product_ID                     0.000000\n",
       "Gender                         0.000000\n",
       "Age                            0.000000\n",
       "Occupation                     0.000000\n",
       "City_Category                  0.000000\n",
       "Stay_In_Current_City_Years     0.000000\n",
       "Marital_Status                 0.000000\n",
       "Product_Category_1             0.000000\n",
       "Product_Category_2            31.062713\n",
       "Product_Category_3            69.441029\n",
       "Purchase                       0.000000\n",
       "dtype: float64"
      ]
     },
     "execution_count": 179,
     "metadata": {},
     "output_type": "execute_result"
    }
   ],
   "source": [
    "100*df_BF.isnull().sum()/df_BF.shape[0]"
   ]
  },
  {
   "cell_type": "markdown",
   "metadata": {},
   "source": [
    "#### 4.B)  Treat the Null values and also state the reason for the method used(2 Marks) \n"
   ]
  },
  {
   "cell_type": "code",
   "execution_count": 180,
   "metadata": {},
   "outputs": [
    {
     "data": {
      "text/plain": [
       "0    8.0\n",
       "dtype: float64"
      ]
     },
     "execution_count": 180,
     "metadata": {},
     "output_type": "execute_result"
    }
   ],
   "source": [
    "df_BF['Product_Category_2'].mode()"
   ]
  },
  {
   "cell_type": "code",
   "execution_count": 181,
   "metadata": {},
   "outputs": [],
   "source": [
    "df_BF['Product_Category_2'].replace(np.nan, 8.0, inplace = True)"
   ]
  },
  {
   "cell_type": "code",
   "execution_count": 182,
   "metadata": {},
   "outputs": [],
   "source": [
    "df_BF['Product_Category_3'].replace(np.nan, -99999, inplace = True)"
   ]
  },
  {
   "cell_type": "markdown",
   "metadata": {},
   "source": [
    "We have replaced category 2 by mode as it had only 31% null values and category 3 by a high negative number to denote unknown category"
   ]
  },
  {
   "cell_type": "markdown",
   "metadata": {},
   "source": [
    "#### 4.C) Which gender has made bought more ? (2 Marks)"
   ]
  },
  {
   "cell_type": "code",
   "execution_count": 183,
   "metadata": {},
   "outputs": [
    {
     "data": {
      "text/plain": [
       "Gender\n",
       "F    1164624021\n",
       "M    3853044357\n",
       "Name: Purchase, dtype: int64"
      ]
     },
     "execution_count": 183,
     "metadata": {},
     "output_type": "execute_result"
    }
   ],
   "source": [
    "df_BF.groupby(['Gender'])['Purchase'].sum()"
   ]
  },
  {
   "cell_type": "markdown",
   "metadata": {},
   "source": [
    "Male has purchased more."
   ]
  },
  {
   "cell_type": "markdown",
   "metadata": {},
   "source": [
    "-------------"
   ]
  },
  {
   "cell_type": "markdown",
   "metadata": {},
   "source": [
    "#  2 Questions X  10 Marks = 20 Marks\n"
   ]
  },
  {
   "cell_type": "markdown",
   "metadata": {},
   "source": [
    "--------"
   ]
  },
  {
   "cell_type": "markdown",
   "metadata": {},
   "source": [
    "<span style=\"font-family: Arial; font-weight:bold;font-size:1.5em;color:#a61652;\"> 1. Read the dataset(Churn_Modelling.csv) answer the questions below\n",
    "    \n",
    "1.A)With help of visualization check the relationship of 'Exited' columns with the columns 'Geography' ,'Gender','HasCrCard' and 'IsActiveMember' and write down your observation  (5 Mark)\n",
    "\n",
    "1.B)With help of visualization Check the relationship  between 'Exited' column with the columns 'CreditScore', 'Age', 'Tenure', 'Balance','NumOfProducts','EstimatedSalary'  and write down your observation? (5 Marks)"
   ]
  },
  {
   "cell_type": "code",
   "execution_count": 29,
   "metadata": {},
   "outputs": [],
   "source": [
    "df_churn = pd.read_csv('Churn.csv')"
   ]
  },
  {
   "cell_type": "code",
   "execution_count": 30,
   "metadata": {},
   "outputs": [
    {
     "data": {
      "text/html": [
       "<div>\n",
       "<style scoped>\n",
       "    .dataframe tbody tr th:only-of-type {\n",
       "        vertical-align: middle;\n",
       "    }\n",
       "\n",
       "    .dataframe tbody tr th {\n",
       "        vertical-align: top;\n",
       "    }\n",
       "\n",
       "    .dataframe thead th {\n",
       "        text-align: right;\n",
       "    }\n",
       "</style>\n",
       "<table border=\"1\" class=\"dataframe\">\n",
       "  <thead>\n",
       "    <tr style=\"text-align: right;\">\n",
       "      <th></th>\n",
       "      <th>RowNumber</th>\n",
       "      <th>CustomerId</th>\n",
       "      <th>Surname</th>\n",
       "      <th>CreditScore</th>\n",
       "      <th>Geography</th>\n",
       "      <th>Gender</th>\n",
       "      <th>Age</th>\n",
       "      <th>Tenure</th>\n",
       "      <th>Balance</th>\n",
       "      <th>NumOfProducts</th>\n",
       "      <th>HasCrCard</th>\n",
       "      <th>IsActiveMember</th>\n",
       "      <th>EstimatedSalary</th>\n",
       "      <th>Exited</th>\n",
       "    </tr>\n",
       "  </thead>\n",
       "  <tbody>\n",
       "    <tr>\n",
       "      <th>0</th>\n",
       "      <td>1</td>\n",
       "      <td>15634602</td>\n",
       "      <td>Hargrave</td>\n",
       "      <td>619</td>\n",
       "      <td>France</td>\n",
       "      <td>Female</td>\n",
       "      <td>42</td>\n",
       "      <td>2</td>\n",
       "      <td>0.00</td>\n",
       "      <td>1</td>\n",
       "      <td>1</td>\n",
       "      <td>1</td>\n",
       "      <td>101348.88</td>\n",
       "      <td>1</td>\n",
       "    </tr>\n",
       "    <tr>\n",
       "      <th>1</th>\n",
       "      <td>2</td>\n",
       "      <td>15647311</td>\n",
       "      <td>Hill</td>\n",
       "      <td>608</td>\n",
       "      <td>Spain</td>\n",
       "      <td>Female</td>\n",
       "      <td>41</td>\n",
       "      <td>1</td>\n",
       "      <td>83807.86</td>\n",
       "      <td>1</td>\n",
       "      <td>0</td>\n",
       "      <td>1</td>\n",
       "      <td>112542.58</td>\n",
       "      <td>0</td>\n",
       "    </tr>\n",
       "    <tr>\n",
       "      <th>2</th>\n",
       "      <td>3</td>\n",
       "      <td>15619304</td>\n",
       "      <td>Onio</td>\n",
       "      <td>502</td>\n",
       "      <td>France</td>\n",
       "      <td>Female</td>\n",
       "      <td>42</td>\n",
       "      <td>8</td>\n",
       "      <td>159660.80</td>\n",
       "      <td>3</td>\n",
       "      <td>1</td>\n",
       "      <td>0</td>\n",
       "      <td>113931.57</td>\n",
       "      <td>1</td>\n",
       "    </tr>\n",
       "    <tr>\n",
       "      <th>3</th>\n",
       "      <td>4</td>\n",
       "      <td>15701354</td>\n",
       "      <td>Boni</td>\n",
       "      <td>699</td>\n",
       "      <td>France</td>\n",
       "      <td>Female</td>\n",
       "      <td>39</td>\n",
       "      <td>1</td>\n",
       "      <td>0.00</td>\n",
       "      <td>2</td>\n",
       "      <td>0</td>\n",
       "      <td>0</td>\n",
       "      <td>93826.63</td>\n",
       "      <td>0</td>\n",
       "    </tr>\n",
       "    <tr>\n",
       "      <th>4</th>\n",
       "      <td>5</td>\n",
       "      <td>15737888</td>\n",
       "      <td>Mitchell</td>\n",
       "      <td>850</td>\n",
       "      <td>Spain</td>\n",
       "      <td>Female</td>\n",
       "      <td>43</td>\n",
       "      <td>2</td>\n",
       "      <td>125510.82</td>\n",
       "      <td>1</td>\n",
       "      <td>1</td>\n",
       "      <td>1</td>\n",
       "      <td>79084.10</td>\n",
       "      <td>0</td>\n",
       "    </tr>\n",
       "  </tbody>\n",
       "</table>\n",
       "</div>"
      ],
      "text/plain": [
       "   RowNumber  CustomerId   Surname  CreditScore Geography  Gender  Age  \\\n",
       "0          1    15634602  Hargrave          619    France  Female   42   \n",
       "1          2    15647311      Hill          608     Spain  Female   41   \n",
       "2          3    15619304      Onio          502    France  Female   42   \n",
       "3          4    15701354      Boni          699    France  Female   39   \n",
       "4          5    15737888  Mitchell          850     Spain  Female   43   \n",
       "\n",
       "   Tenure    Balance  NumOfProducts  HasCrCard  IsActiveMember  \\\n",
       "0       2       0.00              1          1               1   \n",
       "1       1   83807.86              1          0               1   \n",
       "2       8  159660.80              3          1               0   \n",
       "3       1       0.00              2          0               0   \n",
       "4       2  125510.82              1          1               1   \n",
       "\n",
       "   EstimatedSalary  Exited  \n",
       "0        101348.88       1  \n",
       "1        112542.58       0  \n",
       "2        113931.57       1  \n",
       "3         93826.63       0  \n",
       "4         79084.10       0  "
      ]
     },
     "execution_count": 30,
     "metadata": {},
     "output_type": "execute_result"
    }
   ],
   "source": [
    "df_churn.head()"
   ]
  },
  {
   "cell_type": "code",
   "execution_count": 121,
   "metadata": {},
   "outputs": [
    {
     "data": {
      "text/plain": [
       "RowNumber            int64\n",
       "CustomerId           int64\n",
       "Surname             object\n",
       "CreditScore          int64\n",
       "Geography           object\n",
       "Gender              object\n",
       "Age                  int64\n",
       "Tenure               int64\n",
       "Balance            float64\n",
       "NumOfProducts        int64\n",
       "HasCrCard            int64\n",
       "IsActiveMember       int64\n",
       "EstimatedSalary    float64\n",
       "Exited               int64\n",
       "dtype: object"
      ]
     },
     "execution_count": 121,
     "metadata": {},
     "output_type": "execute_result"
    }
   ],
   "source": [
    "df_churn.dtypes"
   ]
  },
  {
   "cell_type": "markdown",
   "metadata": {},
   "source": [
    "#### 1.A)With help of visualization check the relationship of 'Exited' columns with the columns 'Geography' ,'Gender','HasCrCard' and 'IsActiveMember' and write down your observation  (5 Mark)\n"
   ]
  },
  {
   "cell_type": "code",
   "execution_count": 133,
   "metadata": {},
   "outputs": [],
   "source": [
    "df_geo_exit = df_churn.groupby(['Geography'])['Exited'].sum().to_frame().reset_index()"
   ]
  },
  {
   "cell_type": "code",
   "execution_count": 135,
   "metadata": {},
   "outputs": [
    {
     "data": {
      "image/png": "[encoded data removed]",
      "text/plain": [
       "<Figure size 432x288 with 1 Axes>"
      ]
     },
     "metadata": {
      "needs_background": "light"
     },
     "output_type": "display_data"
    }
   ],
   "source": [
    "sns.barplot(df_geo_exit['Geography'], df_geo_exit['Exited'])\n",
    "plt.show()"
   ]
  },
  {
   "cell_type": "markdown",
   "metadata": {},
   "source": [
    "France and Germany has highest number of exited customers "
   ]
  },
  {
   "cell_type": "code",
   "execution_count": 136,
   "metadata": {},
   "outputs": [],
   "source": [
    "df_gender_exit = df_churn.groupby(['Gender'])['Exited'].sum().to_frame().reset_index()"
   ]
  },
  {
   "cell_type": "code",
   "execution_count": 137,
   "metadata": {},
   "outputs": [
    {
     "data": {
      "text/html": [
       "<div>\n",
       "<style scoped>\n",
       "    .dataframe tbody tr th:only-of-type {\n",
       "        vertical-align: middle;\n",
       "    }\n",
       "\n",
       "    .dataframe tbody tr th {\n",
       "        vertical-align: top;\n",
       "    }\n",
       "\n",
       "    .dataframe thead th {\n",
       "        text-align: right;\n",
       "    }\n",
       "</style>\n",
       "<table border=\"1\" class=\"dataframe\">\n",
       "  <thead>\n",
       "    <tr style=\"text-align: right;\">\n",
       "      <th></th>\n",
       "      <th>Gender</th>\n",
       "      <th>Exited</th>\n",
       "    </tr>\n",
       "  </thead>\n",
       "  <tbody>\n",
       "    <tr>\n",
       "      <th>0</th>\n",
       "      <td>Female</td>\n",
       "      <td>1139</td>\n",
       "    </tr>\n",
       "    <tr>\n",
       "      <th>1</th>\n",
       "      <td>Male</td>\n",
       "      <td>898</td>\n",
       "    </tr>\n",
       "  </tbody>\n",
       "</table>\n",
       "</div>"
      ],
      "text/plain": [
       "   Gender  Exited\n",
       "0  Female    1139\n",
       "1    Male     898"
      ]
     },
     "execution_count": 137,
     "metadata": {},
     "output_type": "execute_result"
    }
   ],
   "source": [
    "df_gender_exit"
   ]
  },
  {
   "cell_type": "code",
   "execution_count": 138,
   "metadata": {},
   "outputs": [
    {
     "data": {
      "image/png": "[encoded data removed]",
      "text/plain": [
       "<Figure size 432x288 with 1 Axes>"
      ]
     },
     "metadata": {
      "needs_background": "light"
     },
     "output_type": "display_data"
    }
   ],
   "source": [
    "sns.barplot(df_gender_exit['Gender'], df_gender_exit['Exited'])\n",
    "plt.show()"
   ]
  },
  {
   "cell_type": "markdown",
   "metadata": {},
   "source": [
    "Female customers exited more than male customers"
   ]
  },
  {
   "cell_type": "code",
   "execution_count": 139,
   "metadata": {},
   "outputs": [
    {
     "data": {
      "text/html": [
       "<div>\n",
       "<style scoped>\n",
       "    .dataframe tbody tr th:only-of-type {\n",
       "        vertical-align: middle;\n",
       "    }\n",
       "\n",
       "    .dataframe tbody tr th {\n",
       "        vertical-align: top;\n",
       "    }\n",
       "\n",
       "    .dataframe thead th {\n",
       "        text-align: right;\n",
       "    }\n",
       "</style>\n",
       "<table border=\"1\" class=\"dataframe\">\n",
       "  <thead>\n",
       "    <tr style=\"text-align: right;\">\n",
       "      <th></th>\n",
       "      <th>HasCrCard</th>\n",
       "      <th>Exited</th>\n",
       "    </tr>\n",
       "  </thead>\n",
       "  <tbody>\n",
       "    <tr>\n",
       "      <th>0</th>\n",
       "      <td>0</td>\n",
       "      <td>613</td>\n",
       "    </tr>\n",
       "    <tr>\n",
       "      <th>1</th>\n",
       "      <td>1</td>\n",
       "      <td>1424</td>\n",
       "    </tr>\n",
       "  </tbody>\n",
       "</table>\n",
       "</div>"
      ],
      "text/plain": [
       "   HasCrCard  Exited\n",
       "0          0     613\n",
       "1          1    1424"
      ]
     },
     "execution_count": 139,
     "metadata": {},
     "output_type": "execute_result"
    }
   ],
   "source": [
    "df_hasCrCard_exit = df_churn.groupby(['HasCrCard'])['Exited'].sum().to_frame().reset_index()\n",
    "df_hasCrCard_exit"
   ]
  },
  {
   "cell_type": "code",
   "execution_count": 140,
   "metadata": {},
   "outputs": [
    {
     "data": {
      "image/png": "[encoded data removed]",
      "text/plain": [
       "<Figure size 432x288 with 1 Axes>"
      ]
     },
     "metadata": {
      "needs_background": "light"
     },
     "output_type": "display_data"
    }
   ],
   "source": [
    "sns.barplot(df_hasCrCard_exit['HasCrCard'], df_hasCrCard_exit['Exited'])\n",
    "plt.show()"
   ]
  },
  {
   "cell_type": "markdown",
   "metadata": {},
   "source": [
    "Customers owning credit card exited the more"
   ]
  },
  {
   "cell_type": "code",
   "execution_count": 141,
   "metadata": {},
   "outputs": [
    {
     "data": {
      "text/html": [
       "<div>\n",
       "<style scoped>\n",
       "    .dataframe tbody tr th:only-of-type {\n",
       "        vertical-align: middle;\n",
       "    }\n",
       "\n",
       "    .dataframe tbody tr th {\n",
       "        vertical-align: top;\n",
       "    }\n",
       "\n",
       "    .dataframe thead th {\n",
       "        text-align: right;\n",
       "    }\n",
       "</style>\n",
       "<table border=\"1\" class=\"dataframe\">\n",
       "  <thead>\n",
       "    <tr style=\"text-align: right;\">\n",
       "      <th></th>\n",
       "      <th>IsActiveMember</th>\n",
       "      <th>Exited</th>\n",
       "    </tr>\n",
       "  </thead>\n",
       "  <tbody>\n",
       "    <tr>\n",
       "      <th>0</th>\n",
       "      <td>0</td>\n",
       "      <td>1302</td>\n",
       "    </tr>\n",
       "    <tr>\n",
       "      <th>1</th>\n",
       "      <td>1</td>\n",
       "      <td>735</td>\n",
       "    </tr>\n",
       "  </tbody>\n",
       "</table>\n",
       "</div>"
      ],
      "text/plain": [
       "   IsActiveMember  Exited\n",
       "0               0    1302\n",
       "1               1     735"
      ]
     },
     "execution_count": 141,
     "metadata": {},
     "output_type": "execute_result"
    }
   ],
   "source": [
    "df_isActive_exit = df_churn.groupby(['IsActiveMember'])['Exited'].sum().to_frame().reset_index()\n",
    "df_isActive_exit"
   ]
  },
  {
   "cell_type": "code",
   "execution_count": 142,
   "metadata": {},
   "outputs": [
    {
     "data": {
      "image/png": "[encoded data removed]",
      "text/plain": [
       "<Figure size 432x288 with 1 Axes>"
      ]
     },
     "metadata": {
      "needs_background": "light"
     },
     "output_type": "display_data"
    }
   ],
   "source": [
    "sns.barplot(df_isActive_exit['IsActiveMember'], df_isActive_exit['Exited'])\n",
    "plt.show()"
   ]
  },
  {
   "cell_type": "markdown",
   "metadata": {},
   "source": [
    "Customers who are less active exited the most"
   ]
  },
  {
   "cell_type": "markdown",
   "metadata": {},
   "source": [
    "#### 1.B)With help of visualization Check the relationship  between 'Exited' column with the columns 'CreditScore', 'Age', 'Tenure', 'Balance','NumOfProducts','EstimatedSalary'  and write down your observation? (5 Marks)"
   ]
  },
  {
   "cell_type": "code",
   "execution_count": 148,
   "metadata": {},
   "outputs": [],
   "source": [
    "df_creditscore_exit = df_churn.groupby(['Exited'])['CreditScore'].mean().to_frame().reset_index()"
   ]
  },
  {
   "cell_type": "code",
   "execution_count": 149,
   "metadata": {},
   "outputs": [
    {
     "data": {
      "text/html": [
       "<div>\n",
       "<style scoped>\n",
       "    .dataframe tbody tr th:only-of-type {\n",
       "        vertical-align: middle;\n",
       "    }\n",
       "\n",
       "    .dataframe tbody tr th {\n",
       "        vertical-align: top;\n",
       "    }\n",
       "\n",
       "    .dataframe thead th {\n",
       "        text-align: right;\n",
       "    }\n",
       "</style>\n",
       "<table border=\"1\" class=\"dataframe\">\n",
       "  <thead>\n",
       "    <tr style=\"text-align: right;\">\n",
       "      <th></th>\n",
       "      <th>Exited</th>\n",
       "      <th>CreditScore</th>\n",
       "    </tr>\n",
       "  </thead>\n",
       "  <tbody>\n",
       "    <tr>\n",
       "      <th>0</th>\n",
       "      <td>0</td>\n",
       "      <td>651.853196</td>\n",
       "    </tr>\n",
       "    <tr>\n",
       "      <th>1</th>\n",
       "      <td>1</td>\n",
       "      <td>645.351497</td>\n",
       "    </tr>\n",
       "  </tbody>\n",
       "</table>\n",
       "</div>"
      ],
      "text/plain": [
       "   Exited  CreditScore\n",
       "0       0   651.853196\n",
       "1       1   645.351497"
      ]
     },
     "execution_count": 149,
     "metadata": {},
     "output_type": "execute_result"
    }
   ],
   "source": [
    "df_creditscore_exit"
   ]
  },
  {
   "cell_type": "code",
   "execution_count": 150,
   "metadata": {},
   "outputs": [
    {
     "data": {
      "image/png": "[encoded data removed]",
      "text/plain": [
       "<Figure size 432x288 with 1 Axes>"
      ]
     },
     "metadata": {
      "needs_background": "light"
     },
     "output_type": "display_data"
    }
   ],
   "source": [
    "sns.barplot(df_creditscore_exit['Exited'], df_creditscore_exit['CreditScore'])\n",
    "plt.show()"
   ]
  },
  {
   "cell_type": "markdown",
   "metadata": {},
   "source": [
    "Credit score doesn't have any impact on the customer churning"
   ]
  },
  {
   "cell_type": "code",
   "execution_count": 151,
   "metadata": {},
   "outputs": [
    {
     "data": {
      "text/html": [
       "<div>\n",
       "<style scoped>\n",
       "    .dataframe tbody tr th:only-of-type {\n",
       "        vertical-align: middle;\n",
       "    }\n",
       "\n",
       "    .dataframe tbody tr th {\n",
       "        vertical-align: top;\n",
       "    }\n",
       "\n",
       "    .dataframe thead th {\n",
       "        text-align: right;\n",
       "    }\n",
       "</style>\n",
       "<table border=\"1\" class=\"dataframe\">\n",
       "  <thead>\n",
       "    <tr style=\"text-align: right;\">\n",
       "      <th></th>\n",
       "      <th>Exited</th>\n",
       "      <th>Age</th>\n",
       "    </tr>\n",
       "  </thead>\n",
       "  <tbody>\n",
       "    <tr>\n",
       "      <th>0</th>\n",
       "      <td>0</td>\n",
       "      <td>37.408389</td>\n",
       "    </tr>\n",
       "    <tr>\n",
       "      <th>1</th>\n",
       "      <td>1</td>\n",
       "      <td>44.837997</td>\n",
       "    </tr>\n",
       "  </tbody>\n",
       "</table>\n",
       "</div>"
      ],
      "text/plain": [
       "   Exited        Age\n",
       "0       0  37.408389\n",
       "1       1  44.837997"
      ]
     },
     "execution_count": 151,
     "metadata": {},
     "output_type": "execute_result"
    }
   ],
   "source": [
    "df_Age_exit = df_churn.groupby(['Exited'])['Age'].mean().to_frame().reset_index()\n",
    "df_Age_exit"
   ]
  },
  {
   "cell_type": "code",
   "execution_count": 152,
   "metadata": {},
   "outputs": [
    {
     "data": {
      "image/png": "[encoded data removed]",
      "text/plain": [
       "<Figure size 432x288 with 1 Axes>"
      ]
     },
     "metadata": {
      "needs_background": "light"
     },
     "output_type": "display_data"
    }
   ],
   "source": [
    "sns.barplot(df_Age_exit['Exited'], df_Age_exit['Age'])\n",
    "plt.show()"
   ]
  },
  {
   "cell_type": "markdown",
   "metadata": {},
   "source": [
    "Customers with who churned highest had above average age"
   ]
  },
  {
   "cell_type": "code",
   "execution_count": 155,
   "metadata": {},
   "outputs": [
    {
     "data": {
      "text/plain": [
       "Index(['RowNumber', 'CustomerId', 'Surname', 'CreditScore', 'Geography',\n",
       "       'Gender', 'Age', 'Tenure', 'Balance', 'NumOfProducts', 'HasCrCard',\n",
       "       'IsActiveMember', 'EstimatedSalary', 'Exited'],\n",
       "      dtype='object')"
      ]
     },
     "execution_count": 155,
     "metadata": {},
     "output_type": "execute_result"
    }
   ],
   "source": [
    "df_churn.columns"
   ]
  },
  {
   "cell_type": "code",
   "execution_count": 161,
   "metadata": {},
   "outputs": [
    {
     "data": {
      "image/png": "[encoded data removed]",
      "text/plain": [
       "<Figure size 432x288 with 2 Axes>"
      ]
     },
     "metadata": {
      "needs_background": "light"
     },
     "output_type": "display_data"
    }
   ],
   "source": [
    "sns.heatmap(df_churn.loc[:,['CreditScore','Age', 'Tenure','Balance','NumOfProducts','EstimatedSalary','Exited']].corr(), annot = True)\n",
    "plt.show()"
   ]
  },
  {
   "cell_type": "markdown",
   "metadata": {},
   "source": [
    "Age had the highest impact on the customer exiting/churning"
   ]
  },
  {
   "cell_type": "markdown",
   "metadata": {},
   "source": [
    "<span style=\"font-family: Arial; font-weight:bold;font-size:1.5em;color:#a61652;\"> 2. Read the dataset(IPL.csv) answer the questions below\n",
    "    \n",
    "\n",
    "#### 2.A) Which player got the maximum premium (Price) on the base price and What is the average SOLD PRICE for each age category? (5 Marks)\n",
    "\n",
    "#### 2.B1) What are the outliers in Sold Price ? (1 mark)\n",
    "\n",
    "#### 2.B2) Filter out the outliers and display the  Name of the player(1 mark)\n",
    "\n",
    "#### 2.B3) Display the  Name of the player , Sold price and their Playing role who are having above  highest cap?(2 mark)\n",
    "\n",
    "#### 2.B4) Display the top 5 hight sold price are the highest sold players?(1 mark)\n",
    "\n"
   ]
  },
  {
   "cell_type": "code",
   "execution_count": 31,
   "metadata": {},
   "outputs": [],
   "source": [
    "df_IPL = pd.read_csv('IPL.csv')"
   ]
  },
  {
   "cell_type": "code",
   "execution_count": 67,
   "metadata": {},
   "outputs": [
    {
     "data": {
      "text/html": [
       "<div>\n",
       "<style scoped>\n",
       "    .dataframe tbody tr th:only-of-type {\n",
       "        vertical-align: middle;\n",
       "    }\n",
       "\n",
       "    .dataframe tbody tr th {\n",
       "        vertical-align: top;\n",
       "    }\n",
       "\n",
       "    .dataframe thead th {\n",
       "        text-align: right;\n",
       "    }\n",
       "</style>\n",
       "<table border=\"1\" class=\"dataframe\">\n",
       "  <thead>\n",
       "    <tr style=\"text-align: right;\">\n",
       "      <th></th>\n",
       "      <th>0</th>\n",
       "      <th>1</th>\n",
       "      <th>2</th>\n",
       "      <th>3</th>\n",
       "      <th>4</th>\n",
       "    </tr>\n",
       "  </thead>\n",
       "  <tbody>\n",
       "    <tr>\n",
       "      <th>Sl.NO.</th>\n",
       "      <td>1</td>\n",
       "      <td>2</td>\n",
       "      <td>3</td>\n",
       "      <td>4</td>\n",
       "      <td>5</td>\n",
       "    </tr>\n",
       "    <tr>\n",
       "      <th>PLAYER NAME</th>\n",
       "      <td>Abdulla, YA</td>\n",
       "      <td>Abdur Razzak</td>\n",
       "      <td>Agarkar, AB</td>\n",
       "      <td>Ashwin, R</td>\n",
       "      <td>Badrinath, S</td>\n",
       "    </tr>\n",
       "    <tr>\n",
       "      <th>AGE</th>\n",
       "      <td>2</td>\n",
       "      <td>2</td>\n",
       "      <td>2</td>\n",
       "      <td>1</td>\n",
       "      <td>2</td>\n",
       "    </tr>\n",
       "    <tr>\n",
       "      <th>COUNTRY</th>\n",
       "      <td>SA</td>\n",
       "      <td>BAN</td>\n",
       "      <td>IND</td>\n",
       "      <td>IND</td>\n",
       "      <td>IND</td>\n",
       "    </tr>\n",
       "    <tr>\n",
       "      <th>TEAM</th>\n",
       "      <td>KXIP</td>\n",
       "      <td>RCB</td>\n",
       "      <td>KKR</td>\n",
       "      <td>CSK</td>\n",
       "      <td>CSK</td>\n",
       "    </tr>\n",
       "    <tr>\n",
       "      <th>PLAYING ROLE</th>\n",
       "      <td>Allrounder</td>\n",
       "      <td>Bowler</td>\n",
       "      <td>Bowler</td>\n",
       "      <td>Bowler</td>\n",
       "      <td>Batsman</td>\n",
       "    </tr>\n",
       "    <tr>\n",
       "      <th>T-RUNS</th>\n",
       "      <td>0</td>\n",
       "      <td>214</td>\n",
       "      <td>571</td>\n",
       "      <td>284</td>\n",
       "      <td>63</td>\n",
       "    </tr>\n",
       "    <tr>\n",
       "      <th>T-WKTS</th>\n",
       "      <td>0</td>\n",
       "      <td>18</td>\n",
       "      <td>58</td>\n",
       "      <td>31</td>\n",
       "      <td>0</td>\n",
       "    </tr>\n",
       "    <tr>\n",
       "      <th>ODI-RUNS-S</th>\n",
       "      <td>0</td>\n",
       "      <td>657</td>\n",
       "      <td>1269</td>\n",
       "      <td>241</td>\n",
       "      <td>79</td>\n",
       "    </tr>\n",
       "    <tr>\n",
       "      <th>ODI-SR-B</th>\n",
       "      <td>0</td>\n",
       "      <td>71.41</td>\n",
       "      <td>80.62</td>\n",
       "      <td>84.56</td>\n",
       "      <td>45.93</td>\n",
       "    </tr>\n",
       "    <tr>\n",
       "      <th>ODI-WKTS</th>\n",
       "      <td>0</td>\n",
       "      <td>185</td>\n",
       "      <td>288</td>\n",
       "      <td>51</td>\n",
       "      <td>0</td>\n",
       "    </tr>\n",
       "    <tr>\n",
       "      <th>ODI-SR-BL</th>\n",
       "      <td>0</td>\n",
       "      <td>37.6</td>\n",
       "      <td>32.9</td>\n",
       "      <td>36.8</td>\n",
       "      <td>0</td>\n",
       "    </tr>\n",
       "    <tr>\n",
       "      <th>CAPTAINCY EXP</th>\n",
       "      <td>0</td>\n",
       "      <td>0</td>\n",
       "      <td>0</td>\n",
       "      <td>0</td>\n",
       "      <td>0</td>\n",
       "    </tr>\n",
       "    <tr>\n",
       "      <th>RUNS-S</th>\n",
       "      <td>0</td>\n",
       "      <td>0</td>\n",
       "      <td>167</td>\n",
       "      <td>58</td>\n",
       "      <td>1317</td>\n",
       "    </tr>\n",
       "    <tr>\n",
       "      <th>HS</th>\n",
       "      <td>0</td>\n",
       "      <td>0</td>\n",
       "      <td>39</td>\n",
       "      <td>11</td>\n",
       "      <td>71</td>\n",
       "    </tr>\n",
       "    <tr>\n",
       "      <th>AVE</th>\n",
       "      <td>0</td>\n",
       "      <td>0</td>\n",
       "      <td>18.56</td>\n",
       "      <td>5.8</td>\n",
       "      <td>32.93</td>\n",
       "    </tr>\n",
       "    <tr>\n",
       "      <th>SR-B</th>\n",
       "      <td>0</td>\n",
       "      <td>0</td>\n",
       "      <td>121.01</td>\n",
       "      <td>76.32</td>\n",
       "      <td>120.71</td>\n",
       "    </tr>\n",
       "    <tr>\n",
       "      <th>SIXERS</th>\n",
       "      <td>0</td>\n",
       "      <td>0</td>\n",
       "      <td>5</td>\n",
       "      <td>0</td>\n",
       "      <td>28</td>\n",
       "    </tr>\n",
       "    <tr>\n",
       "      <th>RUNS-C</th>\n",
       "      <td>307</td>\n",
       "      <td>29</td>\n",
       "      <td>1059</td>\n",
       "      <td>1125</td>\n",
       "      <td>0</td>\n",
       "    </tr>\n",
       "    <tr>\n",
       "      <th>WKTS</th>\n",
       "      <td>15</td>\n",
       "      <td>0</td>\n",
       "      <td>29</td>\n",
       "      <td>49</td>\n",
       "      <td>0</td>\n",
       "    </tr>\n",
       "    <tr>\n",
       "      <th>AVE-BL</th>\n",
       "      <td>20.47</td>\n",
       "      <td>0</td>\n",
       "      <td>36.52</td>\n",
       "      <td>22.96</td>\n",
       "      <td>0</td>\n",
       "    </tr>\n",
       "    <tr>\n",
       "      <th>ECON</th>\n",
       "      <td>8.9</td>\n",
       "      <td>14.5</td>\n",
       "      <td>8.81</td>\n",
       "      <td>6.23</td>\n",
       "      <td>0</td>\n",
       "    </tr>\n",
       "    <tr>\n",
       "      <th>SR-BL</th>\n",
       "      <td>13.93</td>\n",
       "      <td>0</td>\n",
       "      <td>24.9</td>\n",
       "      <td>22.14</td>\n",
       "      <td>0</td>\n",
       "    </tr>\n",
       "    <tr>\n",
       "      <th>AUCTION YEAR</th>\n",
       "      <td>2009</td>\n",
       "      <td>2008</td>\n",
       "      <td>2008</td>\n",
       "      <td>2011</td>\n",
       "      <td>2011</td>\n",
       "    </tr>\n",
       "    <tr>\n",
       "      <th>BASE PRICE</th>\n",
       "      <td>50000</td>\n",
       "      <td>50000</td>\n",
       "      <td>200000</td>\n",
       "      <td>100000</td>\n",
       "      <td>100000</td>\n",
       "    </tr>\n",
       "    <tr>\n",
       "      <th>SOLD PRICE</th>\n",
       "      <td>50000</td>\n",
       "      <td>50000</td>\n",
       "      <td>350000</td>\n",
       "      <td>850000</td>\n",
       "      <td>800000</td>\n",
       "    </tr>\n",
       "    <tr>\n",
       "      <th>PREMIUM_PRICE</th>\n",
       "      <td>0</td>\n",
       "      <td>0</td>\n",
       "      <td>150000</td>\n",
       "      <td>750000</td>\n",
       "      <td>700000</td>\n",
       "    </tr>\n",
       "  </tbody>\n",
       "</table>\n",
       "</div>"
      ],
      "text/plain": [
       "                         0             1            2          3             4\n",
       "Sl.NO.                   1             2            3          4             5\n",
       "PLAYER NAME    Abdulla, YA  Abdur Razzak  Agarkar, AB  Ashwin, R  Badrinath, S\n",
       "AGE                      2             2            2          1             2\n",
       "COUNTRY                 SA           BAN          IND        IND           IND\n",
       "TEAM                  KXIP           RCB          KKR        CSK           CSK\n",
       "PLAYING ROLE    Allrounder        Bowler       Bowler     Bowler       Batsman\n",
       "T-RUNS                   0           214          571        284            63\n",
       "T-WKTS                   0            18           58         31             0\n",
       "ODI-RUNS-S               0           657         1269        241            79\n",
       "ODI-SR-B                 0         71.41        80.62      84.56         45.93\n",
       "ODI-WKTS                 0           185          288         51             0\n",
       "ODI-SR-BL                0          37.6         32.9       36.8             0\n",
       "CAPTAINCY EXP            0             0            0          0             0\n",
       "RUNS-S                   0             0          167         58          1317\n",
       "HS                       0             0           39         11            71\n",
       "AVE                      0             0        18.56        5.8         32.93\n",
       "SR-B                     0             0       121.01      76.32        120.71\n",
       "SIXERS                   0             0            5          0            28\n",
       "RUNS-C                 307            29         1059       1125             0\n",
       "WKTS                    15             0           29         49             0\n",
       "AVE-BL               20.47             0        36.52      22.96             0\n",
       "ECON                   8.9          14.5         8.81       6.23             0\n",
       "SR-BL                13.93             0         24.9      22.14             0\n",
       "AUCTION YEAR          2009          2008         2008       2011          2011\n",
       "BASE PRICE           50000         50000       200000     100000        100000\n",
       "SOLD PRICE           50000         50000       350000     850000        800000\n",
       "PREMIUM_PRICE            0             0       150000     750000        700000"
      ]
     },
     "execution_count": 67,
     "metadata": {},
     "output_type": "execute_result"
    }
   ],
   "source": [
    "df_IPL.head().T"
   ]
  },
  {
   "cell_type": "code",
   "execution_count": 33,
   "metadata": {},
   "outputs": [
    {
     "data": {
      "text/plain": [
       "Sl.NO.             int64\n",
       "PLAYER NAME       object\n",
       "AGE                int64\n",
       "COUNTRY           object\n",
       "TEAM              object\n",
       "PLAYING ROLE      object\n",
       "T-RUNS             int64\n",
       "T-WKTS             int64\n",
       "ODI-RUNS-S         int64\n",
       "ODI-SR-B         float64\n",
       "ODI-WKTS           int64\n",
       "ODI-SR-BL        float64\n",
       "CAPTAINCY EXP      int64\n",
       "RUNS-S             int64\n",
       "HS                 int64\n",
       "AVE              float64\n",
       "SR-B             float64\n",
       "SIXERS             int64\n",
       "RUNS-C             int64\n",
       "WKTS               int64\n",
       "AVE-BL           float64\n",
       "ECON             float64\n",
       "SR-BL            float64\n",
       "AUCTION YEAR       int64\n",
       "BASE PRICE         int64\n",
       "SOLD PRICE         int64\n",
       "dtype: object"
      ]
     },
     "execution_count": 33,
     "metadata": {},
     "output_type": "execute_result"
    }
   ],
   "source": [
    "df_IPL.dtypes"
   ]
  },
  {
   "cell_type": "markdown",
   "metadata": {},
   "source": [
    "#### 2.A) Which player got the maximum premium (Price) on the base price and What is the average SOLD PRICE for each age category? (5 Marks)\n",
    "\n",
    "Hint : Premium = Sold Price - Base Price"
   ]
  },
  {
   "cell_type": "code",
   "execution_count": 34,
   "metadata": {},
   "outputs": [],
   "source": [
    "df_IPL['PREMIUM_PRICE'] = df_IPL['SOLD PRICE'] - df_IPL['BASE PRICE']"
   ]
  },
  {
   "cell_type": "code",
   "execution_count": 43,
   "metadata": {},
   "outputs": [
    {
     "data": {
      "text/plain": [
       "50    Kohli, V\n",
       "Name: PLAYER NAME, dtype: object"
      ]
     },
     "execution_count": 43,
     "metadata": {},
     "output_type": "execute_result"
    }
   ],
   "source": [
    "df_IPL.sort_values(by = 'PREMIUM_PRICE')['PLAYER NAME'].tail(1)"
   ]
  },
  {
   "cell_type": "code",
   "execution_count": 119,
   "metadata": {},
   "outputs": [],
   "source": [
    "df_age_category = df_IPL.groupby(['AGE'])['SOLD PRICE'].mean().to_frame(name = 'Avg_SOLD_PRICE').reset_index()"
   ]
  },
  {
   "cell_type": "code",
   "execution_count": 120,
   "metadata": {},
   "outputs": [
    {
     "data": {
      "text/html": [
       "<div>\n",
       "<style scoped>\n",
       "    .dataframe tbody tr th:only-of-type {\n",
       "        vertical-align: middle;\n",
       "    }\n",
       "\n",
       "    .dataframe tbody tr th {\n",
       "        vertical-align: top;\n",
       "    }\n",
       "\n",
       "    .dataframe thead th {\n",
       "        text-align: right;\n",
       "    }\n",
       "</style>\n",
       "<table border=\"1\" class=\"dataframe\">\n",
       "  <thead>\n",
       "    <tr style=\"text-align: right;\">\n",
       "      <th></th>\n",
       "      <th>AGE</th>\n",
       "      <th>Avg_SOLD_PRICE</th>\n",
       "    </tr>\n",
       "  </thead>\n",
       "  <tbody>\n",
       "    <tr>\n",
       "      <th>0</th>\n",
       "      <td>1</td>\n",
       "      <td>720250.000000</td>\n",
       "    </tr>\n",
       "    <tr>\n",
       "      <th>1</th>\n",
       "      <td>2</td>\n",
       "      <td>484534.883721</td>\n",
       "    </tr>\n",
       "    <tr>\n",
       "      <th>2</th>\n",
       "      <td>3</td>\n",
       "      <td>520178.571429</td>\n",
       "    </tr>\n",
       "  </tbody>\n",
       "</table>\n",
       "</div>"
      ],
      "text/plain": [
       "   AGE  Avg_SOLD_PRICE\n",
       "0    1   720250.000000\n",
       "1    2   484534.883721\n",
       "2    3   520178.571429"
      ]
     },
     "execution_count": 120,
     "metadata": {},
     "output_type": "execute_result"
    }
   ],
   "source": [
    "df_age_category"
   ]
  },
  {
   "cell_type": "markdown",
   "metadata": {},
   "source": [
    "#### 2.B1) What are the outliers in Sold Price ? \n",
    "\n",
    "#### 2.B2) Filter out the outliers and display the  Name of the player\n",
    "\n",
    "#### 2.B3) Display the  Name of the player , Sold price and their Playing role who are having above  highest cap?\n",
    "\n",
    "#### 2.B4) Display the top 5 hight sold price are the highest sold players?\n",
    "\n"
   ]
  },
  {
   "cell_type": "code",
   "execution_count": 44,
   "metadata": {},
   "outputs": [],
   "source": [
    "sold_price_25 = df_IPL['SOLD PRICE'].quantile(0.25)"
   ]
  },
  {
   "cell_type": "code",
   "execution_count": 45,
   "metadata": {},
   "outputs": [],
   "source": [
    "sold_price_75 = df_IPL['SOLD PRICE'].quantile(0.75)"
   ]
  },
  {
   "cell_type": "code",
   "execution_count": 46,
   "metadata": {},
   "outputs": [],
   "source": [
    "IQR = sold_price_75 - sold_price_25"
   ]
  },
  {
   "cell_type": "code",
   "execution_count": 47,
   "metadata": {},
   "outputs": [],
   "source": [
    "UL = sold_price_75 + 1.5*IQR"
   ]
  },
  {
   "cell_type": "code",
   "execution_count": 48,
   "metadata": {},
   "outputs": [],
   "source": [
    "LL = sold_price_25 + 1.5*IQR"
   ]
  },
  {
   "cell_type": "code",
   "execution_count": 57,
   "metadata": {},
   "outputs": [
    {
     "name": "stdout",
     "output_type": "stream",
     "text": [
      "Outliers in SOLD PRICE are ---\n",
      "8       950000\n",
      "39      950000\n",
      "41      975000\n",
      "59      950000\n",
      "95      950000\n",
      "108    1350000\n",
      "110    1000000\n",
      "Name: SOLD PRICE, dtype: int64\n"
     ]
    }
   ],
   "source": [
    "print('Outliers in SOLD PRICE are ---')\n",
    "print(df_IPL[(df_IPL['SOLD PRICE'] < UL) & (df_IPL['SOLD PRICE'] > LL)]['SOLD PRICE'])"
   ]
  },
  {
   "cell_type": "code",
   "execution_count": 62,
   "metadata": {},
   "outputs": [
    {
     "name": "stdout",
     "output_type": "stream",
     "text": [
      "Name of outlier players are -- \n",
      "8            Botha, J\n",
      "39         Jadeja, RA\n",
      "41     Jayasuriya, ST\n",
      "59        Mathews, AD\n",
      "95          Sharma, I\n",
      "108        Symonds, A\n",
      "110      Taylor, LRPL\n",
      "Name: PLAYER NAME, dtype: object\n"
     ]
    }
   ],
   "source": [
    "print('Name of outlier players are -- ')\n",
    "print(df_IPL[((df_IPL['SOLD PRICE'] < UL) & (df_IPL['SOLD PRICE'] > LL))]['PLAYER NAME'])"
   ]
  },
  {
   "cell_type": "code",
   "execution_count": 185,
   "metadata": {},
   "outputs": [
    {
     "name": "stdout",
     "output_type": "stream",
     "text": [
      "Players above highest cap -- \n",
      "15         Dhoni, MS\n",
      "23       Flintoff, A\n",
      "50          Kohli, V\n",
      "83     Pietersen, KP\n",
      "93         Sehwag, V\n",
      "111    Tendulkar, SR\n",
      "113       Tiwary, SS\n",
      "127     Yuvraj Singh\n",
      "Name: PLAYER NAME, dtype: object\n"
     ]
    }
   ],
   "source": [
    "print('Players above highest cap -- ')\n",
    "print(df_IPL[((df_IPL['SOLD PRICE'] > UL))]['PLAYER NAME'])"
   ]
  },
  {
   "cell_type": "code",
   "execution_count": 190,
   "metadata": {},
   "outputs": [
    {
     "data": {
      "image/png": "[encoded data removed]",
      "text/plain": [
       "<Figure size 432x288 with 1 Axes>"
      ]
     },
     "metadata": {
      "needs_background": "light"
     },
     "output_type": "display_data"
    }
   ],
   "source": [
    "sns.boxplot(df_IPL['SOLD PRICE'])\n",
    "plt.show()"
   ]
  },
  {
   "cell_type": "code",
   "execution_count": 66,
   "metadata": {},
   "outputs": [
    {
     "name": "stdout",
     "output_type": "stream",
     "text": [
      "5 highest players w.r.t SOLD PRICE are --- \n",
      "93         Sehwag, V\n",
      "127     Yuvraj Singh\n",
      "50          Kohli, V\n",
      "111    Tendulkar, SR\n",
      "113       Tiwary, SS\n",
      "Name: PLAYER NAME, dtype: object\n"
     ]
    }
   ],
   "source": [
    "print('5 highest players w.r.t SOLD PRICE are --- ')\n",
    "print(df_IPL.sort_values(by = 'SOLD PRICE', ascending=False)['PLAYER NAME'].head(5))"
   ]
  },
  {
   "cell_type": "markdown",
   "metadata": {},
   "source": [
    "------------"
   ]
  },
  {
   "cell_type": "markdown",
   "metadata": {},
   "source": [
    "#  2 Questions X  15 Marks = 30 Marks\n",
    "\n"
   ]
  },
  {
   "cell_type": "markdown",
   "metadata": {},
   "source": [
    "----------"
   ]
  },
  {
   "cell_type": "markdown",
   "metadata": {},
   "source": [
    "<span style=\"font-family: Arial; font-weight:bold;font-size:1.5em;color:#db0b49;\">1A). Read the dataset(thanksgiving-2015-poll-data.csv) and Answer below questions?\n",
    "\n",
    "     \n",
    "1. Remove the \"$\" from column named \"How much total combined money did all members of your HOUSEHOLD earn last year\"?(5 marks)\n"
   ]
  },
  {
   "cell_type": "code",
   "execution_count": 68,
   "metadata": {},
   "outputs": [],
   "source": [
    "df_thanks = pd.read_csv('thanksgiving-2015-poll-data.csv')"
   ]
  },
  {
   "cell_type": "code",
   "execution_count": 70,
   "metadata": {},
   "outputs": [
    {
     "data": {
      "text/html": [
       "<div>\n",
       "<style scoped>\n",
       "    .dataframe tbody tr th:only-of-type {\n",
       "        vertical-align: middle;\n",
       "    }\n",
       "\n",
       "    .dataframe tbody tr th {\n",
       "        vertical-align: top;\n",
       "    }\n",
       "\n",
       "    .dataframe thead th {\n",
       "        text-align: right;\n",
       "    }\n",
       "</style>\n",
       "<table border=\"1\" class=\"dataframe\">\n",
       "  <thead>\n",
       "    <tr style=\"text-align: right;\">\n",
       "      <th></th>\n",
       "      <th>0</th>\n",
       "      <th>1</th>\n",
       "      <th>2</th>\n",
       "      <th>3</th>\n",
       "      <th>4</th>\n",
       "    </tr>\n",
       "  </thead>\n",
       "  <tbody>\n",
       "    <tr>\n",
       "      <th>RespondentID</th>\n",
       "      <td>4337954960</td>\n",
       "      <td>4337951949</td>\n",
       "      <td>4337935621</td>\n",
       "      <td>4337933040</td>\n",
       "      <td>4337931983</td>\n",
       "    </tr>\n",
       "    <tr>\n",
       "      <th>Do you celebrate Thanksgiving?</th>\n",
       "      <td>Yes</td>\n",
       "      <td>Yes</td>\n",
       "      <td>Yes</td>\n",
       "      <td>Yes</td>\n",
       "      <td>Yes</td>\n",
       "    </tr>\n",
       "    <tr>\n",
       "      <th>What is typically the main dish at your Thanksgiving dinner?</th>\n",
       "      <td>Turkey</td>\n",
       "      <td>Turkey</td>\n",
       "      <td>Turkey</td>\n",
       "      <td>Turkey</td>\n",
       "      <td>Tofurkey</td>\n",
       "    </tr>\n",
       "    <tr>\n",
       "      <th>What is typically the main dish at your Thanksgiving dinner? - Other (please specify)</th>\n",
       "      <td>NaN</td>\n",
       "      <td>NaN</td>\n",
       "      <td>NaN</td>\n",
       "      <td>NaN</td>\n",
       "      <td>NaN</td>\n",
       "    </tr>\n",
       "    <tr>\n",
       "      <th>How is the main dish typically cooked?</th>\n",
       "      <td>Baked</td>\n",
       "      <td>Baked</td>\n",
       "      <td>Roasted</td>\n",
       "      <td>Baked</td>\n",
       "      <td>Baked</td>\n",
       "    </tr>\n",
       "    <tr>\n",
       "      <th>...</th>\n",
       "      <td>...</td>\n",
       "      <td>...</td>\n",
       "      <td>...</td>\n",
       "      <td>...</td>\n",
       "      <td>...</td>\n",
       "    </tr>\n",
       "    <tr>\n",
       "      <th>How would you describe where you live?</th>\n",
       "      <td>Suburban</td>\n",
       "      <td>Rural</td>\n",
       "      <td>Suburban</td>\n",
       "      <td>Urban</td>\n",
       "      <td>Urban</td>\n",
       "    </tr>\n",
       "    <tr>\n",
       "      <th>Age</th>\n",
       "      <td>18 - 29</td>\n",
       "      <td>18 - 29</td>\n",
       "      <td>18 - 29</td>\n",
       "      <td>30 - 44</td>\n",
       "      <td>30 - 44</td>\n",
       "    </tr>\n",
       "    <tr>\n",
       "      <th>What is your gender?</th>\n",
       "      <td>Male</td>\n",
       "      <td>Female</td>\n",
       "      <td>Male</td>\n",
       "      <td>Male</td>\n",
       "      <td>Male</td>\n",
       "    </tr>\n",
       "    <tr>\n",
       "      <th>How much total combined money did all members of your HOUSEHOLD earn last year?</th>\n",
       "      <td>$75,000 to $99,999</td>\n",
       "      <td>$50,000 to $74,999</td>\n",
       "      <td>$0 to $9,999</td>\n",
       "      <td>$200,000 and up</td>\n",
       "      <td>$100,000 to $124,999</td>\n",
       "    </tr>\n",
       "    <tr>\n",
       "      <th>US Region</th>\n",
       "      <td>Middle Atlantic</td>\n",
       "      <td>East South Central</td>\n",
       "      <td>Mountain</td>\n",
       "      <td>Pacific</td>\n",
       "      <td>Pacific</td>\n",
       "    </tr>\n",
       "  </tbody>\n",
       "</table>\n",
       "<p>65 rows × 5 columns</p>\n",
       "</div>"
      ],
      "text/plain": [
       "                                                                     0  \\\n",
       "RespondentID                                                4337954960   \n",
       "Do you celebrate Thanksgiving?                                     Yes   \n",
       "What is typically the main dish at your Thanksg...              Turkey   \n",
       "What is typically the main dish at your Thanksg...                 NaN   \n",
       "How is the main dish typically cooked?                           Baked   \n",
       "...                                                                ...   \n",
       "How would you describe where you live?                        Suburban   \n",
       "Age                                                            18 - 29   \n",
       "What is your gender?                                              Male   \n",
       "How much total combined money did all members o...  $75,000 to $99,999   \n",
       "US Region                                              Middle Atlantic   \n",
       "\n",
       "                                                                     1  \\\n",
       "RespondentID                                                4337951949   \n",
       "Do you celebrate Thanksgiving?                                     Yes   \n",
       "What is typically the main dish at your Thanksg...              Turkey   \n",
       "What is typically the main dish at your Thanksg...                 NaN   \n",
       "How is the main dish typically cooked?                           Baked   \n",
       "...                                                                ...   \n",
       "How would you describe where you live?                           Rural   \n",
       "Age                                                            18 - 29   \n",
       "What is your gender?                                            Female   \n",
       "How much total combined money did all members o...  $50,000 to $74,999   \n",
       "US Region                                           East South Central   \n",
       "\n",
       "                                                               2  \\\n",
       "RespondentID                                          4337935621   \n",
       "Do you celebrate Thanksgiving?                               Yes   \n",
       "What is typically the main dish at your Thanksg...        Turkey   \n",
       "What is typically the main dish at your Thanksg...           NaN   \n",
       "How is the main dish typically cooked?                   Roasted   \n",
       "...                                                          ...   \n",
       "How would you describe where you live?                  Suburban   \n",
       "Age                                                      18 - 29   \n",
       "What is your gender?                                        Male   \n",
       "How much total combined money did all members o...  $0 to $9,999   \n",
       "US Region                                               Mountain   \n",
       "\n",
       "                                                                  3  \\\n",
       "RespondentID                                             4337933040   \n",
       "Do you celebrate Thanksgiving?                                  Yes   \n",
       "What is typically the main dish at your Thanksg...           Turkey   \n",
       "What is typically the main dish at your Thanksg...              NaN   \n",
       "How is the main dish typically cooked?                        Baked   \n",
       "...                                                             ...   \n",
       "How would you describe where you live?                        Urban   \n",
       "Age                                                         30 - 44   \n",
       "What is your gender?                                           Male   \n",
       "How much total combined money did all members o...  $200,000 and up   \n",
       "US Region                                                   Pacific   \n",
       "\n",
       "                                                                       4  \n",
       "RespondentID                                                  4337931983  \n",
       "Do you celebrate Thanksgiving?                                       Yes  \n",
       "What is typically the main dish at your Thanksg...              Tofurkey  \n",
       "What is typically the main dish at your Thanksg...                   NaN  \n",
       "How is the main dish typically cooked?                             Baked  \n",
       "...                                                                  ...  \n",
       "How would you describe where you live?                             Urban  \n",
       "Age                                                              30 - 44  \n",
       "What is your gender?                                                Male  \n",
       "How much total combined money did all members o...  $100,000 to $124,999  \n",
       "US Region                                                        Pacific  \n",
       "\n",
       "[65 rows x 5 columns]"
      ]
     },
     "execution_count": 70,
     "metadata": {},
     "output_type": "execute_result"
    }
   ],
   "source": [
    "df_thanks.head().T"
   ]
  },
  {
   "cell_type": "markdown",
   "metadata": {},
   "source": [
    "#### 1. Remove the \"$\" from column named \"How much total combined money did all members of your HOUSEHOLD earn last year\"?"
   ]
  },
  {
   "cell_type": "code",
   "execution_count": 78,
   "metadata": {},
   "outputs": [],
   "source": [
    "df_thanks['How much total combined money did all members of your HOUSEHOLD earn last year?'] = \\\n",
    "df_thanks['How much total combined money did all members of your HOUSEHOLD earn last year?'].str.replace('$', '')"
   ]
  },
  {
   "cell_type": "markdown",
   "metadata": {},
   "source": [
    "<span style=\"font-family: Arial; font-weight:bold;font-size:1.5em;color:#a61652;\"> 1B). Read the dataset(bollywood.csv) answer the questions below\n",
    "    \n",
    "    \n",
    "\n",
    "1.A) Which movie got the highest profit  and which genre of movie has the highest budget?   (5 Marks)\n",
    "    \n",
    "1.B)Which year has the highest box office collection (5 Marks)    \n",
    "    "
   ]
  },
  {
   "cell_type": "code",
   "execution_count": 79,
   "metadata": {},
   "outputs": [],
   "source": [
    "df_bollywood = pd.read_csv('bollywood.csv')"
   ]
  },
  {
   "cell_type": "code",
   "execution_count": 82,
   "metadata": {},
   "outputs": [
    {
     "data": {
      "text/plain": [
       "SlNo                   0\n",
       "Release Date           0\n",
       "MovieName              0\n",
       "ReleaseTime            0\n",
       "Genre                  0\n",
       "Budget                 0\n",
       "BoxOfficeCollection    0\n",
       "YoutubeViews           0\n",
       "YoutubeLikes           0\n",
       "YoutubeDislikes        0\n",
       "dtype: int64"
      ]
     },
     "execution_count": 82,
     "metadata": {},
     "output_type": "execute_result"
    }
   ],
   "source": [
    "df_bollywood.isnull().sum()"
   ]
  },
  {
   "cell_type": "code",
   "execution_count": 80,
   "metadata": {},
   "outputs": [
    {
     "data": {
      "text/html": [
       "<div>\n",
       "<style scoped>\n",
       "    .dataframe tbody tr th:only-of-type {\n",
       "        vertical-align: middle;\n",
       "    }\n",
       "\n",
       "    .dataframe tbody tr th {\n",
       "        vertical-align: top;\n",
       "    }\n",
       "\n",
       "    .dataframe thead th {\n",
       "        text-align: right;\n",
       "    }\n",
       "</style>\n",
       "<table border=\"1\" class=\"dataframe\">\n",
       "  <thead>\n",
       "    <tr style=\"text-align: right;\">\n",
       "      <th></th>\n",
       "      <th>SlNo</th>\n",
       "      <th>Release Date</th>\n",
       "      <th>MovieName</th>\n",
       "      <th>ReleaseTime</th>\n",
       "      <th>Genre</th>\n",
       "      <th>Budget</th>\n",
       "      <th>BoxOfficeCollection</th>\n",
       "      <th>YoutubeViews</th>\n",
       "      <th>YoutubeLikes</th>\n",
       "      <th>YoutubeDislikes</th>\n",
       "    </tr>\n",
       "  </thead>\n",
       "  <tbody>\n",
       "    <tr>\n",
       "      <th>0</th>\n",
       "      <td>1</td>\n",
       "      <td>18-04-2014</td>\n",
       "      <td>2 States</td>\n",
       "      <td>LW</td>\n",
       "      <td>Romance</td>\n",
       "      <td>36</td>\n",
       "      <td>104.00</td>\n",
       "      <td>8576361</td>\n",
       "      <td>26622</td>\n",
       "      <td>2527</td>\n",
       "    </tr>\n",
       "    <tr>\n",
       "      <th>1</th>\n",
       "      <td>2</td>\n",
       "      <td>04-01-2013</td>\n",
       "      <td>Table No. 21</td>\n",
       "      <td>N</td>\n",
       "      <td>Thriller</td>\n",
       "      <td>10</td>\n",
       "      <td>12.00</td>\n",
       "      <td>1087320</td>\n",
       "      <td>1129</td>\n",
       "      <td>137</td>\n",
       "    </tr>\n",
       "    <tr>\n",
       "      <th>2</th>\n",
       "      <td>3</td>\n",
       "      <td>18-07-2014</td>\n",
       "      <td>Amit Sahni Ki List</td>\n",
       "      <td>N</td>\n",
       "      <td>Comedy</td>\n",
       "      <td>10</td>\n",
       "      <td>4.00</td>\n",
       "      <td>572336</td>\n",
       "      <td>586</td>\n",
       "      <td>54</td>\n",
       "    </tr>\n",
       "    <tr>\n",
       "      <th>3</th>\n",
       "      <td>4</td>\n",
       "      <td>04-01-2013</td>\n",
       "      <td>Rajdhani Express</td>\n",
       "      <td>N</td>\n",
       "      <td>Drama</td>\n",
       "      <td>7</td>\n",
       "      <td>0.35</td>\n",
       "      <td>42626</td>\n",
       "      <td>86</td>\n",
       "      <td>19</td>\n",
       "    </tr>\n",
       "    <tr>\n",
       "      <th>4</th>\n",
       "      <td>5</td>\n",
       "      <td>04-07-2014</td>\n",
       "      <td>Bobby Jasoos</td>\n",
       "      <td>N</td>\n",
       "      <td>Comedy</td>\n",
       "      <td>18</td>\n",
       "      <td>10.80</td>\n",
       "      <td>3113427</td>\n",
       "      <td>4512</td>\n",
       "      <td>1224</td>\n",
       "    </tr>\n",
       "  </tbody>\n",
       "</table>\n",
       "</div>"
      ],
      "text/plain": [
       "   SlNo Release Date           MovieName ReleaseTime      Genre  Budget  \\\n",
       "0     1   18-04-2014            2 States          LW    Romance      36   \n",
       "1     2   04-01-2013        Table No. 21           N  Thriller       10   \n",
       "2     3   18-07-2014  Amit Sahni Ki List           N     Comedy      10   \n",
       "3     4   04-01-2013    Rajdhani Express           N     Drama        7   \n",
       "4     5   04-07-2014        Bobby Jasoos           N     Comedy      18   \n",
       "\n",
       "   BoxOfficeCollection  YoutubeViews  YoutubeLikes  YoutubeDislikes  \n",
       "0               104.00       8576361         26622             2527  \n",
       "1                12.00       1087320          1129              137  \n",
       "2                 4.00        572336           586               54  \n",
       "3                 0.35         42626            86               19  \n",
       "4                10.80       3113427          4512             1224  "
      ]
     },
     "execution_count": 80,
     "metadata": {},
     "output_type": "execute_result"
    }
   ],
   "source": [
    "df_bollywood.head()"
   ]
  },
  {
   "cell_type": "code",
   "execution_count": 81,
   "metadata": {},
   "outputs": [
    {
     "data": {
      "text/html": [
       "<div>\n",
       "<style scoped>\n",
       "    .dataframe tbody tr th:only-of-type {\n",
       "        vertical-align: middle;\n",
       "    }\n",
       "\n",
       "    .dataframe tbody tr th {\n",
       "        vertical-align: top;\n",
       "    }\n",
       "\n",
       "    .dataframe thead th {\n",
       "        text-align: right;\n",
       "    }\n",
       "</style>\n",
       "<table border=\"1\" class=\"dataframe\">\n",
       "  <thead>\n",
       "    <tr style=\"text-align: right;\">\n",
       "      <th></th>\n",
       "      <th>SlNo</th>\n",
       "      <th>Release Date</th>\n",
       "      <th>MovieName</th>\n",
       "      <th>ReleaseTime</th>\n",
       "      <th>Genre</th>\n",
       "      <th>Budget</th>\n",
       "      <th>BoxOfficeCollection</th>\n",
       "      <th>YoutubeViews</th>\n",
       "      <th>YoutubeLikes</th>\n",
       "      <th>YoutubeDislikes</th>\n",
       "    </tr>\n",
       "  </thead>\n",
       "  <tbody>\n",
       "    <tr>\n",
       "      <th>144</th>\n",
       "      <td>145</td>\n",
       "      <td>27-02-2015</td>\n",
       "      <td>Dum Laga Ke Haisha</td>\n",
       "      <td>N</td>\n",
       "      <td>Comedy</td>\n",
       "      <td>15</td>\n",
       "      <td>30.00</td>\n",
       "      <td>3250917</td>\n",
       "      <td>8185</td>\n",
       "      <td>615</td>\n",
       "    </tr>\n",
       "    <tr>\n",
       "      <th>145</th>\n",
       "      <td>146</td>\n",
       "      <td>13-03-2015</td>\n",
       "      <td>NH10</td>\n",
       "      <td>N</td>\n",
       "      <td>Thriller</td>\n",
       "      <td>13</td>\n",
       "      <td>32.10</td>\n",
       "      <td>5592977</td>\n",
       "      <td>15464</td>\n",
       "      <td>1513</td>\n",
       "    </tr>\n",
       "    <tr>\n",
       "      <th>146</th>\n",
       "      <td>147</td>\n",
       "      <td>20-03-2015</td>\n",
       "      <td>Dilliwali Zaalim Girlfriend</td>\n",
       "      <td>N</td>\n",
       "      <td>Comedy</td>\n",
       "      <td>32</td>\n",
       "      <td>12.00</td>\n",
       "      <td>2316047</td>\n",
       "      <td>4289</td>\n",
       "      <td>807</td>\n",
       "    </tr>\n",
       "    <tr>\n",
       "      <th>147</th>\n",
       "      <td>148</td>\n",
       "      <td>20-03-2015</td>\n",
       "      <td>Hunterrr</td>\n",
       "      <td>N</td>\n",
       "      <td>Comedy</td>\n",
       "      <td>5</td>\n",
       "      <td>11.89</td>\n",
       "      <td>4674795</td>\n",
       "      <td>3706</td>\n",
       "      <td>762</td>\n",
       "    </tr>\n",
       "    <tr>\n",
       "      <th>148</th>\n",
       "      <td>149</td>\n",
       "      <td>23-05-2014</td>\n",
       "      <td>Kochadaiiyaan</td>\n",
       "      <td>HS</td>\n",
       "      <td>Action</td>\n",
       "      <td>150</td>\n",
       "      <td>120.00</td>\n",
       "      <td>4740727</td>\n",
       "      <td>13466</td>\n",
       "      <td>2649</td>\n",
       "    </tr>\n",
       "  </tbody>\n",
       "</table>\n",
       "</div>"
      ],
      "text/plain": [
       "     SlNo Release Date                    MovieName ReleaseTime     Genre  \\\n",
       "144   145   27-02-2015           Dum Laga Ke Haisha           N    Comedy   \n",
       "145   146   13-03-2015                         NH10           N  Thriller   \n",
       "146   147   20-03-2015  Dilliwali Zaalim Girlfriend           N    Comedy   \n",
       "147   148   20-03-2015                     Hunterrr           N    Comedy   \n",
       "148   149   23-05-2014                Kochadaiiyaan          HS    Action   \n",
       "\n",
       "     Budget  BoxOfficeCollection  YoutubeViews  YoutubeLikes  YoutubeDislikes  \n",
       "144      15                30.00       3250917          8185              615  \n",
       "145      13                32.10       5592977         15464             1513  \n",
       "146      32                12.00       2316047          4289              807  \n",
       "147       5                11.89       4674795          3706              762  \n",
       "148     150               120.00       4740727         13466             2649  "
      ]
     },
     "execution_count": 81,
     "metadata": {},
     "output_type": "execute_result"
    }
   ],
   "source": [
    "df_bollywood.tail()"
   ]
  },
  {
   "cell_type": "code",
   "execution_count": 84,
   "metadata": {},
   "outputs": [
    {
     "data": {
      "text/plain": [
       "SlNo                     int64\n",
       "Release Date            object\n",
       "MovieName               object\n",
       "ReleaseTime             object\n",
       "Genre                   object\n",
       "Budget                   int64\n",
       "BoxOfficeCollection    float64\n",
       "YoutubeViews             int64\n",
       "YoutubeLikes             int64\n",
       "YoutubeDislikes          int64\n",
       "dtype: object"
      ]
     },
     "execution_count": 84,
     "metadata": {},
     "output_type": "execute_result"
    }
   ],
   "source": [
    "df_bollywood.dtypes"
   ]
  },
  {
   "cell_type": "markdown",
   "metadata": {},
   "source": [
    "#### 1.A) Which movie got the highest profit  and which genre of movie has the highest budget?   (5 Marks)"
   ]
  },
  {
   "cell_type": "code",
   "execution_count": 94,
   "metadata": {},
   "outputs": [],
   "source": [
    "df_bollywood['Profit'] = df_bollywood['BoxOfficeCollection'] - df_bollywood['Budget']"
   ]
  },
  {
   "cell_type": "code",
   "execution_count": 96,
   "metadata": {},
   "outputs": [
    {
     "data": {
      "text/html": [
       "<div>\n",
       "<style scoped>\n",
       "    .dataframe tbody tr th:only-of-type {\n",
       "        vertical-align: middle;\n",
       "    }\n",
       "\n",
       "    .dataframe tbody tr th {\n",
       "        vertical-align: top;\n",
       "    }\n",
       "\n",
       "    .dataframe thead th {\n",
       "        text-align: right;\n",
       "    }\n",
       "</style>\n",
       "<table border=\"1\" class=\"dataframe\">\n",
       "  <thead>\n",
       "    <tr style=\"text-align: right;\">\n",
       "      <th></th>\n",
       "      <th>SlNo</th>\n",
       "      <th>Release Date</th>\n",
       "      <th>MovieName</th>\n",
       "      <th>ReleaseTime</th>\n",
       "      <th>Genre</th>\n",
       "      <th>Budget</th>\n",
       "      <th>BoxOfficeCollection</th>\n",
       "      <th>YoutubeViews</th>\n",
       "      <th>YoutubeLikes</th>\n",
       "      <th>YoutubeDislikes</th>\n",
       "      <th>Release_Year</th>\n",
       "      <th>Profit</th>\n",
       "    </tr>\n",
       "  </thead>\n",
       "  <tbody>\n",
       "    <tr>\n",
       "      <th>89</th>\n",
       "      <td>90</td>\n",
       "      <td>19-12-2014</td>\n",
       "      <td>PK</td>\n",
       "      <td>HS</td>\n",
       "      <td>Drama</td>\n",
       "      <td>85</td>\n",
       "      <td>735.0</td>\n",
       "      <td>13270623</td>\n",
       "      <td>43767</td>\n",
       "      <td>5693</td>\n",
       "      <td>2014</td>\n",
       "      <td>650.0</td>\n",
       "    </tr>\n",
       "  </tbody>\n",
       "</table>\n",
       "</div>"
      ],
      "text/plain": [
       "    SlNo Release Date MovieName ReleaseTime    Genre  Budget  \\\n",
       "89    90   19-12-2014        PK          HS   Drama       85   \n",
       "\n",
       "    BoxOfficeCollection  YoutubeViews  YoutubeLikes  YoutubeDislikes  \\\n",
       "89                735.0      13270623         43767             5693   \n",
       "\n",
       "   Release_Year  Profit  \n",
       "89         2014   650.0  "
      ]
     },
     "execution_count": 96,
     "metadata": {},
     "output_type": "execute_result"
    }
   ],
   "source": [
    "df_bollywood.sort_values(by = 'Profit', ascending=False).head(1)"
   ]
  },
  {
   "cell_type": "markdown",
   "metadata": {},
   "source": [
    "PK got the highest profit"
   ]
  },
  {
   "cell_type": "code",
   "execution_count": 99,
   "metadata": {},
   "outputs": [
    {
     "data": {
      "text/html": [
       "<div>\n",
       "<style scoped>\n",
       "    .dataframe tbody tr th:only-of-type {\n",
       "        vertical-align: middle;\n",
       "    }\n",
       "\n",
       "    .dataframe tbody tr th {\n",
       "        vertical-align: top;\n",
       "    }\n",
       "\n",
       "    .dataframe thead th {\n",
       "        text-align: right;\n",
       "    }\n",
       "</style>\n",
       "<table border=\"1\" class=\"dataframe\">\n",
       "  <thead>\n",
       "    <tr style=\"text-align: right;\">\n",
       "      <th></th>\n",
       "      <th>SlNo</th>\n",
       "      <th>Release Date</th>\n",
       "      <th>MovieName</th>\n",
       "      <th>ReleaseTime</th>\n",
       "      <th>Genre</th>\n",
       "      <th>Budget</th>\n",
       "      <th>BoxOfficeCollection</th>\n",
       "      <th>YoutubeViews</th>\n",
       "      <th>YoutubeLikes</th>\n",
       "      <th>YoutubeDislikes</th>\n",
       "      <th>Release_Year</th>\n",
       "      <th>Profit</th>\n",
       "    </tr>\n",
       "  </thead>\n",
       "  <tbody>\n",
       "    <tr>\n",
       "      <th>148</th>\n",
       "      <td>149</td>\n",
       "      <td>23-05-2014</td>\n",
       "      <td>Kochadaiiyaan</td>\n",
       "      <td>HS</td>\n",
       "      <td>Action</td>\n",
       "      <td>150</td>\n",
       "      <td>120.0</td>\n",
       "      <td>4740727</td>\n",
       "      <td>13466</td>\n",
       "      <td>2649</td>\n",
       "      <td>2014</td>\n",
       "      <td>-30.0</td>\n",
       "    </tr>\n",
       "  </tbody>\n",
       "</table>\n",
       "</div>"
      ],
      "text/plain": [
       "     SlNo Release Date      MovieName ReleaseTime   Genre  Budget  \\\n",
       "148   149   23-05-2014  Kochadaiiyaan          HS  Action     150   \n",
       "\n",
       "     BoxOfficeCollection  YoutubeViews  YoutubeLikes  YoutubeDislikes  \\\n",
       "148                120.0       4740727         13466             2649   \n",
       "\n",
       "    Release_Year  Profit  \n",
       "148         2014   -30.0  "
      ]
     },
     "execution_count": 99,
     "metadata": {},
     "output_type": "execute_result"
    }
   ],
   "source": [
    "df_bollywood.sort_values(by = 'Budget', ascending=False).head(1)"
   ]
  },
  {
   "cell_type": "code",
   "execution_count": null,
   "metadata": {},
   "outputs": [],
   "source": [
    "Action genre has highest budget"
   ]
  },
  {
   "cell_type": "markdown",
   "metadata": {},
   "source": [
    "#### 1.B)Which year has the highest box office collection (5 Marks)"
   ]
  },
  {
   "cell_type": "code",
   "execution_count": 83,
   "metadata": {},
   "outputs": [],
   "source": [
    "def extract_year(x):\n",
    "    year = x.split('-')[2]\n",
    "    return year"
   ]
  },
  {
   "cell_type": "code",
   "execution_count": 86,
   "metadata": {},
   "outputs": [],
   "source": [
    "df_bollywood['Release_Year'] = df_bollywood['Release Date'].map(extract_year)"
   ]
  },
  {
   "cell_type": "code",
   "execution_count": 92,
   "metadata": {},
   "outputs": [],
   "source": [
    "df_collection = df_bollywood.groupby(['Release_Year'])['BoxOfficeCollection'].sum().to_frame().reset_index()"
   ]
  },
  {
   "cell_type": "code",
   "execution_count": 93,
   "metadata": {},
   "outputs": [
    {
     "data": {
      "text/html": [
       "<div>\n",
       "<style scoped>\n",
       "    .dataframe tbody tr th:only-of-type {\n",
       "        vertical-align: middle;\n",
       "    }\n",
       "\n",
       "    .dataframe tbody tr th {\n",
       "        vertical-align: top;\n",
       "    }\n",
       "\n",
       "    .dataframe thead th {\n",
       "        text-align: right;\n",
       "    }\n",
       "</style>\n",
       "<table border=\"1\" class=\"dataframe\">\n",
       "  <thead>\n",
       "    <tr style=\"text-align: right;\">\n",
       "      <th></th>\n",
       "      <th>Release_Year</th>\n",
       "      <th>BoxOfficeCollection</th>\n",
       "    </tr>\n",
       "  </thead>\n",
       "  <tbody>\n",
       "    <tr>\n",
       "      <th>0</th>\n",
       "      <td>2013</td>\n",
       "      <td>3468.15</td>\n",
       "    </tr>\n",
       "    <tr>\n",
       "      <th>1</th>\n",
       "      <td>2014</td>\n",
       "      <td>4317.01</td>\n",
       "    </tr>\n",
       "    <tr>\n",
       "      <th>2</th>\n",
       "      <td>2015</td>\n",
       "      <td>509.26</td>\n",
       "    </tr>\n",
       "  </tbody>\n",
       "</table>\n",
       "</div>"
      ],
      "text/plain": [
       "  Release_Year  BoxOfficeCollection\n",
       "0         2013              3468.15\n",
       "1         2014              4317.01\n",
       "2         2015               509.26"
      ]
     },
     "execution_count": 93,
     "metadata": {},
     "output_type": "execute_result"
    }
   ],
   "source": [
    "df_collection"
   ]
  },
  {
   "cell_type": "markdown",
   "metadata": {},
   "source": [
    "Year 2014 has highest box office collection"
   ]
  },
  {
   "cell_type": "markdown",
   "metadata": {},
   "source": [
    "<span style=\"font-family: Arial; font-weight:bold;font-size:1.5em;color:#a61652;\"> 2. Read the dataset(BEML.csv) answer the questions below\n",
    "    \n",
    "2.A)Create new columns by splitting the date column into Day,Month and Year ?(5 Marks)\n",
    "\n",
    "2.B)What was the highest daily swing(highest price - lowest price) in the price ?(5 Marks)\n",
    "\n",
    "2.C)Check the distribution of the close price ? What type of transformation can be applied ?(5 Marks)"
   ]
  },
  {
   "cell_type": "code",
   "execution_count": 100,
   "metadata": {},
   "outputs": [],
   "source": [
    "df_beml = pd.read_csv('BEML.csv')"
   ]
  },
  {
   "cell_type": "code",
   "execution_count": 101,
   "metadata": {},
   "outputs": [
    {
     "data": {
      "text/html": [
       "<div>\n",
       "<style scoped>\n",
       "    .dataframe tbody tr th:only-of-type {\n",
       "        vertical-align: middle;\n",
       "    }\n",
       "\n",
       "    .dataframe tbody tr th {\n",
       "        vertical-align: top;\n",
       "    }\n",
       "\n",
       "    .dataframe thead th {\n",
       "        text-align: right;\n",
       "    }\n",
       "</style>\n",
       "<table border=\"1\" class=\"dataframe\">\n",
       "  <thead>\n",
       "    <tr style=\"text-align: right;\">\n",
       "      <th></th>\n",
       "      <th>Date</th>\n",
       "      <th>Open</th>\n",
       "      <th>High</th>\n",
       "      <th>Low</th>\n",
       "      <th>Last</th>\n",
       "      <th>Close</th>\n",
       "      <th>Total Trade Quantity</th>\n",
       "      <th>Turnover (Lacs)</th>\n",
       "    </tr>\n",
       "  </thead>\n",
       "  <tbody>\n",
       "    <tr>\n",
       "      <th>0</th>\n",
       "      <td>2010-01-04</td>\n",
       "      <td>1121.0</td>\n",
       "      <td>1151.00</td>\n",
       "      <td>1121.00</td>\n",
       "      <td>1134.0</td>\n",
       "      <td>1135.60</td>\n",
       "      <td>101651.0</td>\n",
       "      <td>1157.18</td>\n",
       "    </tr>\n",
       "    <tr>\n",
       "      <th>1</th>\n",
       "      <td>2010-01-05</td>\n",
       "      <td>1146.8</td>\n",
       "      <td>1149.00</td>\n",
       "      <td>1128.75</td>\n",
       "      <td>1135.0</td>\n",
       "      <td>1134.60</td>\n",
       "      <td>59504.0</td>\n",
       "      <td>676.47</td>\n",
       "    </tr>\n",
       "    <tr>\n",
       "      <th>2</th>\n",
       "      <td>2010-01-06</td>\n",
       "      <td>1140.0</td>\n",
       "      <td>1164.25</td>\n",
       "      <td>1130.05</td>\n",
       "      <td>1137.0</td>\n",
       "      <td>1139.60</td>\n",
       "      <td>128908.0</td>\n",
       "      <td>1482.84</td>\n",
       "    </tr>\n",
       "    <tr>\n",
       "      <th>3</th>\n",
       "      <td>2010-01-07</td>\n",
       "      <td>1142.0</td>\n",
       "      <td>1159.40</td>\n",
       "      <td>1119.20</td>\n",
       "      <td>1141.0</td>\n",
       "      <td>1144.15</td>\n",
       "      <td>117871.0</td>\n",
       "      <td>1352.98</td>\n",
       "    </tr>\n",
       "    <tr>\n",
       "      <th>4</th>\n",
       "      <td>2010-01-08</td>\n",
       "      <td>1156.0</td>\n",
       "      <td>1172.00</td>\n",
       "      <td>1140.00</td>\n",
       "      <td>1141.2</td>\n",
       "      <td>1144.05</td>\n",
       "      <td>170063.0</td>\n",
       "      <td>1971.42</td>\n",
       "    </tr>\n",
       "  </tbody>\n",
       "</table>\n",
       "</div>"
      ],
      "text/plain": [
       "         Date    Open     High      Low    Last    Close  \\\n",
       "0  2010-01-04  1121.0  1151.00  1121.00  1134.0  1135.60   \n",
       "1  2010-01-05  1146.8  1149.00  1128.75  1135.0  1134.60   \n",
       "2  2010-01-06  1140.0  1164.25  1130.05  1137.0  1139.60   \n",
       "3  2010-01-07  1142.0  1159.40  1119.20  1141.0  1144.15   \n",
       "4  2010-01-08  1156.0  1172.00  1140.00  1141.2  1144.05   \n",
       "\n",
       "   Total Trade Quantity  Turnover (Lacs)  \n",
       "0              101651.0          1157.18  \n",
       "1               59504.0           676.47  \n",
       "2              128908.0          1482.84  \n",
       "3              117871.0          1352.98  \n",
       "4              170063.0          1971.42  "
      ]
     },
     "execution_count": 101,
     "metadata": {},
     "output_type": "execute_result"
    }
   ],
   "source": [
    "df_beml.head()"
   ]
  },
  {
   "cell_type": "code",
   "execution_count": 103,
   "metadata": {},
   "outputs": [
    {
     "data": {
      "text/plain": [
       "Date                    0\n",
       "Open                    0\n",
       "High                    0\n",
       "Low                     0\n",
       "Last                    0\n",
       "Close                   0\n",
       "Total Trade Quantity    0\n",
       "Turnover (Lacs)         0\n",
       "dtype: int64"
      ]
     },
     "execution_count": 103,
     "metadata": {},
     "output_type": "execute_result"
    }
   ],
   "source": [
    "df_beml.isnull().sum()"
   ]
  },
  {
   "cell_type": "code",
   "execution_count": 104,
   "metadata": {},
   "outputs": [
    {
     "data": {
      "text/plain": [
       "Date                     object\n",
       "Open                    float64\n",
       "High                    float64\n",
       "Low                     float64\n",
       "Last                    float64\n",
       "Close                   float64\n",
       "Total Trade Quantity    float64\n",
       "Turnover (Lacs)         float64\n",
       "dtype: object"
      ]
     },
     "execution_count": 104,
     "metadata": {},
     "output_type": "execute_result"
    }
   ],
   "source": [
    "df_beml.dtypes"
   ]
  },
  {
   "cell_type": "markdown",
   "metadata": {},
   "source": [
    "#### 2. A)Create new columns by splitting the date column into Day,Month and Year ?(5 Marks)"
   ]
  },
  {
   "cell_type": "code",
   "execution_count": 105,
   "metadata": {},
   "outputs": [],
   "source": [
    "def extract_day(x):\n",
    "    return x.split('-')[2]"
   ]
  },
  {
   "cell_type": "code",
   "execution_count": 106,
   "metadata": {},
   "outputs": [],
   "source": [
    "def extract_month(x):\n",
    "    return x.split('-')[1]"
   ]
  },
  {
   "cell_type": "code",
   "execution_count": 107,
   "metadata": {},
   "outputs": [],
   "source": [
    "def extract_year(x):\n",
    "    return x.split('-')[0]"
   ]
  },
  {
   "cell_type": "code",
   "execution_count": 108,
   "metadata": {},
   "outputs": [],
   "source": [
    "df_beml['Day'] = df_beml['Date'].map(extract_day)"
   ]
  },
  {
   "cell_type": "code",
   "execution_count": 109,
   "metadata": {},
   "outputs": [],
   "source": [
    "df_beml['Month'] = df_beml['Date'].map(extract_month)"
   ]
  },
  {
   "cell_type": "code",
   "execution_count": 110,
   "metadata": {},
   "outputs": [],
   "source": [
    "df_beml['Year'] = df_beml['Date'].map(extract_year)"
   ]
  },
  {
   "cell_type": "code",
   "execution_count": 111,
   "metadata": {},
   "outputs": [
    {
     "data": {
      "text/html": [
       "<div>\n",
       "<style scoped>\n",
       "    .dataframe tbody tr th:only-of-type {\n",
       "        vertical-align: middle;\n",
       "    }\n",
       "\n",
       "    .dataframe tbody tr th {\n",
       "        vertical-align: top;\n",
       "    }\n",
       "\n",
       "    .dataframe thead th {\n",
       "        text-align: right;\n",
       "    }\n",
       "</style>\n",
       "<table border=\"1\" class=\"dataframe\">\n",
       "  <thead>\n",
       "    <tr style=\"text-align: right;\">\n",
       "      <th></th>\n",
       "      <th>Date</th>\n",
       "      <th>Open</th>\n",
       "      <th>High</th>\n",
       "      <th>Low</th>\n",
       "      <th>Last</th>\n",
       "      <th>Close</th>\n",
       "      <th>Total Trade Quantity</th>\n",
       "      <th>Turnover (Lacs)</th>\n",
       "      <th>Day</th>\n",
       "      <th>Month</th>\n",
       "      <th>Year</th>\n",
       "    </tr>\n",
       "  </thead>\n",
       "  <tbody>\n",
       "    <tr>\n",
       "      <th>0</th>\n",
       "      <td>2010-01-04</td>\n",
       "      <td>1121.0</td>\n",
       "      <td>1151.00</td>\n",
       "      <td>1121.00</td>\n",
       "      <td>1134.0</td>\n",
       "      <td>1135.60</td>\n",
       "      <td>101651.0</td>\n",
       "      <td>1157.18</td>\n",
       "      <td>04</td>\n",
       "      <td>01</td>\n",
       "      <td>2010</td>\n",
       "    </tr>\n",
       "    <tr>\n",
       "      <th>1</th>\n",
       "      <td>2010-01-05</td>\n",
       "      <td>1146.8</td>\n",
       "      <td>1149.00</td>\n",
       "      <td>1128.75</td>\n",
       "      <td>1135.0</td>\n",
       "      <td>1134.60</td>\n",
       "      <td>59504.0</td>\n",
       "      <td>676.47</td>\n",
       "      <td>05</td>\n",
       "      <td>01</td>\n",
       "      <td>2010</td>\n",
       "    </tr>\n",
       "    <tr>\n",
       "      <th>2</th>\n",
       "      <td>2010-01-06</td>\n",
       "      <td>1140.0</td>\n",
       "      <td>1164.25</td>\n",
       "      <td>1130.05</td>\n",
       "      <td>1137.0</td>\n",
       "      <td>1139.60</td>\n",
       "      <td>128908.0</td>\n",
       "      <td>1482.84</td>\n",
       "      <td>06</td>\n",
       "      <td>01</td>\n",
       "      <td>2010</td>\n",
       "    </tr>\n",
       "    <tr>\n",
       "      <th>3</th>\n",
       "      <td>2010-01-07</td>\n",
       "      <td>1142.0</td>\n",
       "      <td>1159.40</td>\n",
       "      <td>1119.20</td>\n",
       "      <td>1141.0</td>\n",
       "      <td>1144.15</td>\n",
       "      <td>117871.0</td>\n",
       "      <td>1352.98</td>\n",
       "      <td>07</td>\n",
       "      <td>01</td>\n",
       "      <td>2010</td>\n",
       "    </tr>\n",
       "    <tr>\n",
       "      <th>4</th>\n",
       "      <td>2010-01-08</td>\n",
       "      <td>1156.0</td>\n",
       "      <td>1172.00</td>\n",
       "      <td>1140.00</td>\n",
       "      <td>1141.2</td>\n",
       "      <td>1144.05</td>\n",
       "      <td>170063.0</td>\n",
       "      <td>1971.42</td>\n",
       "      <td>08</td>\n",
       "      <td>01</td>\n",
       "      <td>2010</td>\n",
       "    </tr>\n",
       "  </tbody>\n",
       "</table>\n",
       "</div>"
      ],
      "text/plain": [
       "         Date    Open     High      Low    Last    Close  \\\n",
       "0  2010-01-04  1121.0  1151.00  1121.00  1134.0  1135.60   \n",
       "1  2010-01-05  1146.8  1149.00  1128.75  1135.0  1134.60   \n",
       "2  2010-01-06  1140.0  1164.25  1130.05  1137.0  1139.60   \n",
       "3  2010-01-07  1142.0  1159.40  1119.20  1141.0  1144.15   \n",
       "4  2010-01-08  1156.0  1172.00  1140.00  1141.2  1144.05   \n",
       "\n",
       "   Total Trade Quantity  Turnover (Lacs) Day Month  Year  \n",
       "0              101651.0          1157.18  04    01  2010  \n",
       "1               59504.0           676.47  05    01  2010  \n",
       "2              128908.0          1482.84  06    01  2010  \n",
       "3              117871.0          1352.98  07    01  2010  \n",
       "4              170063.0          1971.42  08    01  2010  "
      ]
     },
     "execution_count": 111,
     "metadata": {},
     "output_type": "execute_result"
    }
   ],
   "source": [
    "df_beml.head()"
   ]
  },
  {
   "cell_type": "markdown",
   "metadata": {},
   "source": [
    "#### 2.B)What was the highest daily swing(highest price - lowest price) in the price ?(5 Marks)"
   ]
  },
  {
   "cell_type": "code",
   "execution_count": 112,
   "metadata": {},
   "outputs": [],
   "source": [
    "df_beml['Highest_Daily_Swing'] = df_beml['High'] - df_beml['Low']"
   ]
  },
  {
   "cell_type": "code",
   "execution_count": 187,
   "metadata": {},
   "outputs": [
    {
     "data": {
      "text/html": [
       "<div>\n",
       "<style scoped>\n",
       "    .dataframe tbody tr th:only-of-type {\n",
       "        vertical-align: middle;\n",
       "    }\n",
       "\n",
       "    .dataframe tbody tr th {\n",
       "        vertical-align: top;\n",
       "    }\n",
       "\n",
       "    .dataframe thead th {\n",
       "        text-align: right;\n",
       "    }\n",
       "</style>\n",
       "<table border=\"1\" class=\"dataframe\">\n",
       "  <thead>\n",
       "    <tr style=\"text-align: right;\">\n",
       "      <th></th>\n",
       "      <th>Date</th>\n",
       "      <th>Open</th>\n",
       "      <th>High</th>\n",
       "      <th>Low</th>\n",
       "      <th>Last</th>\n",
       "      <th>Close</th>\n",
       "      <th>Total Trade Quantity</th>\n",
       "      <th>Turnover (Lacs)</th>\n",
       "      <th>Day</th>\n",
       "      <th>Month</th>\n",
       "      <th>Year</th>\n",
       "      <th>Highest_Daily_Swing</th>\n",
       "    </tr>\n",
       "  </thead>\n",
       "  <tbody>\n",
       "    <tr>\n",
       "      <th>1406</th>\n",
       "      <td>2015-08-25</td>\n",
       "      <td>1215.6</td>\n",
       "      <td>1266.0</td>\n",
       "      <td>1060.05</td>\n",
       "      <td>1250.8</td>\n",
       "      <td>1256.1</td>\n",
       "      <td>256602.0</td>\n",
       "      <td>3028.59</td>\n",
       "      <td>25</td>\n",
       "      <td>08</td>\n",
       "      <td>2015</td>\n",
       "      <td>205.95</td>\n",
       "    </tr>\n",
       "  </tbody>\n",
       "</table>\n",
       "</div>"
      ],
      "text/plain": [
       "            Date    Open    High      Low    Last   Close  \\\n",
       "1406  2015-08-25  1215.6  1266.0  1060.05  1250.8  1256.1   \n",
       "\n",
       "      Total Trade Quantity  Turnover (Lacs) Day Month  Year  \\\n",
       "1406              256602.0          3028.59  25    08  2015   \n",
       "\n",
       "      Highest_Daily_Swing  \n",
       "1406               205.95  "
      ]
     },
     "execution_count": 187,
     "metadata": {},
     "output_type": "execute_result"
    }
   ],
   "source": [
    "df_beml.sort_values(by = 'Highest_Daily_Swing', ascending=False).head(1)"
   ]
  },
  {
   "cell_type": "markdown",
   "metadata": {},
   "source": [
    "205.95 was the highest daily swing price"
   ]
  },
  {
   "cell_type": "markdown",
   "metadata": {},
   "source": [
    "#### 2.C)Check the distribution of the close price ? What type of transformation can be applied ?(5 Marks)"
   ]
  },
  {
   "cell_type": "code",
   "execution_count": 113,
   "metadata": {},
   "outputs": [
    {
     "data": {
      "image/png": "[encoded data removed]",
      "text/plain": [
       "<Figure size 432x288 with 1 Axes>"
      ]
     },
     "metadata": {
      "needs_background": "light"
     },
     "output_type": "display_data"
    }
   ],
   "source": [
    "sns.distplot(df_beml['Close'])\n",
    "plt.show()"
   ]
  },
  {
   "cell_type": "markdown",
   "metadata": {},
   "source": [
    "Log transformation can be applied to bring values of close faeture nearer."
   ]
  }
 ],
 "metadata": {
  "hide_input": false,
  "kernelspec": {
   "display_name": "Python 3",
   "language": "python",
   "name": "python3"
  },
  "language_info": {
   "codemirror_mode": {
    "name": "ipython",
    "version": 3
   },
   "file_extension": ".py",
   "mimetype": "text/x-python",
   "name": "python",
   "nbconvert_exporter": "python",
   "pygments_lexer": "ipython3",
   "version": "3.7.3"
  },
  "toc": {
   "base_numbering": 1,
   "nav_menu": {},
   "number_sections": true,
   "sideBar": true,
   "skip_h1_title": false,
   "title_cell": "Table of Contents",
   "title_sidebar": "Contents",
   "toc_cell": false,
   "toc_position": {},
   "toc_section_display": true,
   "toc_window_display": false
  },
  "varInspector": {
   "cols": {
    "lenName": 16,
    "lenType": 16,
    "lenVar": 40
   },
   "kernels_config": {
    "python": {
     "delete_cmd_postfix": "",
     "delete_cmd_prefix": "del ",
     "library": "var_list.py",
     "varRefreshCmd": "print(var_dic_list())"
    },
    "r": {
     "delete_cmd_postfix": ") ",
     "delete_cmd_prefix": "rm(",
     "library": "var_list.r",
     "varRefreshCmd": "cat(var_dic_list()) "
    }
   },
   "types_to_exclude": [
    "module",
    "function",
    "builtin_function_or_method",
    "instance",
    "_Feature"
   ],
   "window_display": false
  }
 },
 "nbformat": 4,
 "nbformat_minor": 2
}
